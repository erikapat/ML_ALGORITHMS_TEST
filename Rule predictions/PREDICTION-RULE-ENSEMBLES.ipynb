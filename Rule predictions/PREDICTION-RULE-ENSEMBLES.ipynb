{
 "cells": [
  {
   "cell_type": "code",
   "execution_count": null,
   "metadata": {},
   "outputs": [],
   "source": []
  },
  {
   "cell_type": "markdown",
   "metadata": {},
   "source": [
    "## **Prediction Rule Ensembles in R**"
   ]
  },
  {
   "cell_type": "markdown",
   "metadata": {},
   "source": [
    "From the paper **Fitting Prediction Rule Ensembles with R Package pre** located in https://arxiv.org/pdf/1707.07149.pdf"
   ]
  },
  {
   "cell_type": "markdown",
   "metadata": {},
   "source": [
    "## **Example: prediction of depression**\n",
    "\n",
    "Predict depressive symptomatology as measured by the Beck Depression Inventory (BDI)"
   ]
  },
  {
   "cell_type": "code",
   "execution_count": 3,
   "metadata": {},
   "outputs": [
    {
     "name": "stderr",
     "output_type": "stream",
     "text": [
      "also installing the dependencies ‘plotrix’, ‘plotmo’, ‘TeachingDemos’, ‘libcoin’, ‘inum’, ‘earth’, ‘partykit’\n",
      "\n",
      "Updating HTML index of packages in '.Library'\n",
      "Making 'packages.html' ... done\n"
     ]
    }
   ],
   "source": [
    "#install.packages('pre')"
   ]
  },
  {
   "cell_type": "code",
   "execution_count": 4,
   "metadata": {},
   "outputs": [],
   "source": [
    "library(\"pre\")\n",
    "data(\"carrillo\")"
   ]
  },
  {
   "cell_type": "code",
   "execution_count": 5,
   "metadata": {},
   "outputs": [
    {
     "data": {
      "text/html": [
       "<table>\n",
       "<thead><tr><th scope=col>n1</th><th scope=col>n2</th><th scope=col>n3</th><th scope=col>n4</th><th scope=col>n5</th><th scope=col>n6</th><th scope=col>ntot</th><th scope=col>e1</th><th scope=col>e2</th><th scope=col>e3</th><th scope=col>⋯</th><th scope=col>open3</th><th scope=col>open4</th><th scope=col>open6</th><th scope=col>opentot</th><th scope=col>altot</th><th scope=col>contot</th><th scope=col>bdi</th><th scope=col>sexo</th><th scope=col>edad</th><th scope=col>open5</th></tr></thead>\n",
       "<tbody>\n",
       "\t<tr><td>17 </td><td> 9 </td><td>16 </td><td>10 </td><td>20 </td><td>11 </td><td> 83</td><td>23 </td><td>15 </td><td>13 </td><td>⋯  </td><td>22 </td><td>16 </td><td>24 </td><td>114</td><td>54 </td><td>58 </td><td> 0 </td><td>1  </td><td>38 </td><td>15 </td></tr>\n",
       "\t<tr><td>23 </td><td>23 </td><td>24 </td><td>23 </td><td>23 </td><td>21 </td><td>137</td><td>13 </td><td> 8 </td><td> 4 </td><td>⋯  </td><td>18 </td><td>18 </td><td>26 </td><td>122</td><td>47 </td><td>48 </td><td> 5 </td><td>1  </td><td>49 </td><td>19 </td></tr>\n",
       "\t<tr><td>17 </td><td>16 </td><td>13 </td><td> 9 </td><td>16 </td><td>10 </td><td> 81</td><td>25 </td><td>25 </td><td>20 </td><td>⋯  </td><td>18 </td><td>13 </td><td>17 </td><td> 85</td><td>33 </td><td>42 </td><td> 4 </td><td>1  </td><td>33 </td><td>12 </td></tr>\n",
       "\t<tr><td>18 </td><td>15 </td><td>10 </td><td>16 </td><td>13 </td><td>12 </td><td> 84</td><td>21 </td><td>20 </td><td>15 </td><td>⋯  </td><td>22 </td><td>18 </td><td>23 </td><td>134</td><td>48 </td><td>39 </td><td> 4 </td><td>2  </td><td>21 </td><td>25 </td></tr>\n",
       "\t<tr><td>15 </td><td>14 </td><td>15 </td><td> 8 </td><td>14 </td><td>11 </td><td> 77</td><td>22 </td><td>22 </td><td>20 </td><td>⋯  </td><td>14 </td><td>13 </td><td>18 </td><td> 82</td><td>31 </td><td>39 </td><td> 3 </td><td>1  </td><td>49 </td><td>13 </td></tr>\n",
       "\t<tr><td>24 </td><td>15 </td><td>20 </td><td>12 </td><td>12 </td><td>20 </td><td>103</td><td>17 </td><td>18 </td><td>19 </td><td>⋯  </td><td>14 </td><td>14 </td><td>19 </td><td> 96</td><td>37 </td><td>55 </td><td>14 </td><td>2  </td><td>64 </td><td> 9 </td></tr>\n",
       "</tbody>\n",
       "</table>\n"
      ],
      "text/latex": [
       "\\begin{tabular}{r|llllllllllllllllllllllllll}\n",
       " n1 & n2 & n3 & n4 & n5 & n6 & ntot & e1 & e2 & e3 & ⋯ & open3 & open4 & open6 & opentot & altot & contot & bdi & sexo & edad & open5\\\\\n",
       "\\hline\n",
       "\t 17  &  9  & 16  & 10  & 20  & 11  &  83 & 23  & 15  & 13  & ⋯   & 22  & 16  & 24  & 114 & 54  & 58  &  0  & 1   & 38  & 15 \\\\\n",
       "\t 23  & 23  & 24  & 23  & 23  & 21  & 137 & 13  &  8  &  4  & ⋯   & 18  & 18  & 26  & 122 & 47  & 48  &  5  & 1   & 49  & 19 \\\\\n",
       "\t 17  & 16  & 13  &  9  & 16  & 10  &  81 & 25  & 25  & 20  & ⋯   & 18  & 13  & 17  &  85 & 33  & 42  &  4  & 1   & 33  & 12 \\\\\n",
       "\t 18  & 15  & 10  & 16  & 13  & 12  &  84 & 21  & 20  & 15  & ⋯   & 22  & 18  & 23  & 134 & 48  & 39  &  4  & 2   & 21  & 25 \\\\\n",
       "\t 15  & 14  & 15  &  8  & 14  & 11  &  77 & 22  & 22  & 20  & ⋯   & 14  & 13  & 18  &  82 & 31  & 39  &  3  & 1   & 49  & 13 \\\\\n",
       "\t 24  & 15  & 20  & 12  & 12  & 20  & 103 & 17  & 18  & 19  & ⋯   & 14  & 14  & 19  &  96 & 37  & 55  & 14  & 2   & 64  &  9 \\\\\n",
       "\\end{tabular}\n"
      ],
      "text/markdown": [
       "\n",
       "n1 | n2 | n3 | n4 | n5 | n6 | ntot | e1 | e2 | e3 | ⋯ | open3 | open4 | open6 | opentot | altot | contot | bdi | sexo | edad | open5 | \n",
       "|---|---|---|---|---|---|\n",
       "| 17  |  9  | 16  | 10  | 20  | 11  |  83 | 23  | 15  | 13  | ⋯   | 22  | 16  | 24  | 114 | 54  | 58  |  0  | 1   | 38  | 15  | \n",
       "| 23  | 23  | 24  | 23  | 23  | 21  | 137 | 13  |  8  |  4  | ⋯   | 18  | 18  | 26  | 122 | 47  | 48  |  5  | 1   | 49  | 19  | \n",
       "| 17  | 16  | 13  |  9  | 16  | 10  |  81 | 25  | 25  | 20  | ⋯   | 18  | 13  | 17  |  85 | 33  | 42  |  4  | 1   | 33  | 12  | \n",
       "| 18  | 15  | 10  | 16  | 13  | 12  |  84 | 21  | 20  | 15  | ⋯   | 22  | 18  | 23  | 134 | 48  | 39  |  4  | 2   | 21  | 25  | \n",
       "| 15  | 14  | 15  |  8  | 14  | 11  |  77 | 22  | 22  | 20  | ⋯   | 14  | 13  | 18  |  82 | 31  | 39  |  3  | 1   | 49  | 13  | \n",
       "| 24  | 15  | 20  | 12  | 12  | 20  | 103 | 17  | 18  | 19  | ⋯   | 14  | 14  | 19  |  96 | 37  | 55  | 14  | 2   | 64  |  9  | \n",
       "\n",
       "\n"
      ],
      "text/plain": [
       "  n1 n2 n3 n4 n5 n6 ntot e1 e2 e3 ⋯ open3 open4 open6 opentot altot contot bdi\n",
       "1 17  9 16 10 20 11  83  23 15 13 ⋯ 22    16    24    114     54    58      0 \n",
       "2 23 23 24 23 23 21 137  13  8  4 ⋯ 18    18    26    122     47    48      5 \n",
       "3 17 16 13  9 16 10  81  25 25 20 ⋯ 18    13    17     85     33    42      4 \n",
       "4 18 15 10 16 13 12  84  21 20 15 ⋯ 22    18    23    134     48    39      4 \n",
       "5 15 14 15  8 14 11  77  22 22 20 ⋯ 14    13    18     82     31    39      3 \n",
       "6 24 15 20 12 12 20 103  17 18 19 ⋯ 14    14    19     96     37    55     14 \n",
       "  sexo edad open5\n",
       "1 1    38   15   \n",
       "2 1    49   19   \n",
       "3 1    33   12   \n",
       "4 2    21   25   \n",
       "5 1    49   13   \n",
       "6 2    64    9   "
      ]
     },
     "metadata": {},
     "output_type": "display_data"
    }
   ],
   "source": [
    "head(carrillo)"
   ]
  },
  {
   "cell_type": "markdown",
   "metadata": {},
   "source": [
    "* The printed result shows the rules with their corresponding coefficients. \n",
    "* Base learners with an estimated coefficient of 0 are omitted from this output, by default. \n",
    "* The first column (rule) indicates the type of base learner: a rule (e.g., rule80) or linear term (e.g., n3). \n",
    "* The description column lists the conditions for rules and the winsorizing points for linear terms, if winsorizing was performed (note that n3 was winsorized with the default value of β = .025). \n",
    "* The first rule shows that observations with a higher value of n4 (i.e., n4 > 15) and a lower value of open4 (i.e., open4 ≤ 13) have an expected BDI score 2.84 higher than observations that do not match these conditions."
   ]
  },
  {
   "cell_type": "code",
   "execution_count": 6,
   "metadata": {},
   "outputs": [
    {
     "data": {
      "text/plain": [
       "\n",
       "Final ensemble with cv error within 1se of minimum: \n",
       "  lambda =  0.64585\n",
       "  number of terms = 14\n",
       "  mean cv error (se) = 35.71612 (6.164598)\n",
       "\n",
       "  cv error type : Mean-Squared Error\n",
       "\n",
       "         rule  coefficient               description\n",
       "  (Intercept)  10.13727152                      <NA>\n",
       "       rule80   2.83654460     n4 > 15 & open4 <= 13\n",
       "       rule97  -1.37291523     n2 <= 16 & open4 > 10\n",
       "       rule18  -1.19069084  ntot <= 109 & etot > 101\n",
       "       rule88  -1.14486723     ntot <= 109 & e6 > 15\n",
       "       rule40  -1.03141667                  n6 <= 19\n",
       "       rule12  -1.00552514                  n3 <= 22\n",
       "        rule1  -0.87187500                  n3 <= 17\n",
       "      rule105  -0.40072865     n2 <= 16 & open5 > 11\n",
       "       rule66   0.37440221   open4 <= 13 & ntot > 82\n",
       "       rule86  -0.30188949        n2 <= 16 & e6 > 14\n",
       "       rule42  -0.27353025     n6 <= 19 & open4 > 12\n",
       "       rule30  -0.21459355    ntot <= 109 & n4 <= 14\n",
       "           n3   0.17546429         2 <= n3 <= 30.225\n",
       "       rule46  -0.03074019                  n1 <= 20"
      ]
     },
     "metadata": {},
     "output_type": "display_data"
    }
   ],
   "source": [
    "set.seed(42)\n",
    "carrillo.ens <- pre(bdi ~ ., data = carrillo)\n",
    "carrillo.ens"
   ]
  },
  {
   "cell_type": "markdown",
   "metadata": {},
   "source": [
    "We can obtain the estimated (zero and non-zero) coefficients for the base learners in the final ensemble using the coef method"
   ]
  },
  {
   "cell_type": "code",
   "execution_count": 8,
   "metadata": {},
   "outputs": [
    {
     "data": {
      "text/html": [
       "<table>\n",
       "<thead><tr><th></th><th scope=col>rule</th><th scope=col>coefficient</th><th scope=col>description</th></tr></thead>\n",
       "<tbody>\n",
       "\t<tr><th scope=row>116</th><td>(Intercept)             </td><td>10.137272               </td><td>NA                      </td></tr>\n",
       "\t<tr><th scope=row>77</th><td><span style=white-space:pre-wrap>rule80     </span>                       </td><td> 2.836545                                                                 </td><td><span style=white-space:pre-wrap>n4 &gt; 15 &amp; open4 &lt;= 13   </span></td></tr>\n",
       "\t<tr><th scope=row>94</th><td><span style=white-space:pre-wrap>rule97     </span>                       </td><td>-1.372915                                                                 </td><td><span style=white-space:pre-wrap>n2 &lt;= 16 &amp; open4 &gt; 10   </span></td></tr>\n",
       "\t<tr><th scope=row>18</th><td><span style=white-space:pre-wrap>rule18     </span></td><td>-1.190691                                          </td><td>ntot &lt;= 109 &amp; etot &gt; 101                 </td></tr>\n",
       "\t<tr><th scope=row>85</th><td><span style=white-space:pre-wrap>rule88     </span>                       </td><td>-1.144867                                                                 </td><td><span style=white-space:pre-wrap>ntot &lt;= 109 &amp; e6 &gt; 15   </span></td></tr>\n",
       "\t<tr><th scope=row>37</th><td><span style=white-space:pre-wrap>rule40     </span>                </td><td>-1.031417                                                          </td><td><span style=white-space:pre-wrap>n6 &lt;= 19                </span></td></tr>\n",
       "</tbody>\n",
       "</table>\n"
      ],
      "text/latex": [
       "\\begin{tabular}{r|lll}\n",
       "  & rule & coefficient & description\\\\\n",
       "\\hline\n",
       "\t116 & (Intercept)              & 10.137272                & NA                      \\\\\n",
       "\t77 & rule80                     &  2.836545                  & n4 > 15 \\& open4 <= 13   \\\\\n",
       "\t94 & rule97                     & -1.372915                  & n2 <= 16 \\& open4 > 10   \\\\\n",
       "\t18 & rule18                     & -1.190691                  & ntot <= 109 \\& etot > 101\\\\\n",
       "\t85 & rule88                     & -1.144867                  & ntot <= 109 \\& e6 > 15   \\\\\n",
       "\t37 & rule40                   & -1.031417                & n6 <= 19                \\\\\n",
       "\\end{tabular}\n"
      ],
      "text/markdown": [
       "\n",
       "| <!--/--> | rule | coefficient | description | \n",
       "|---|---|---|---|---|---|\n",
       "| 116 | (Intercept)              | 10.137272                | NA                       | \n",
       "| 77 | rule80                   |  2.836545                | n4 > 15 & open4 <= 13    | \n",
       "| 94 | rule97                   | -1.372915                | n2 <= 16 & open4 > 10    | \n",
       "| 18 | rule18                   | -1.190691                | ntot <= 109 & etot > 101 | \n",
       "| 85 | rule88                   | -1.144867                | ntot <= 109 & e6 > 15    | \n",
       "| 37 | rule40                   | -1.031417                | n6 <= 19                 | \n",
       "\n",
       "\n"
      ],
      "text/plain": [
       "    rule        coefficient description             \n",
       "116 (Intercept) 10.137272   NA                      \n",
       "77  rule80       2.836545   n4 > 15 & open4 <= 13   \n",
       "94  rule97      -1.372915   n2 <= 16 & open4 > 10   \n",
       "18  rule18      -1.190691   ntot <= 109 & etot > 101\n",
       "85  rule88      -1.144867   ntot <= 109 & e6 > 15   \n",
       "37  rule40      -1.031417   n6 <= 19                "
      ]
     },
     "metadata": {},
     "output_type": "display_data"
    }
   ],
   "source": [
    "head(coef(carrillo.ens))"
   ]
  },
  {
   "cell_type": "code",
   "execution_count": 10,
   "metadata": {},
   "outputs": [
    {
     "data": {
      "text/html": [
       "<dl class=dl-horizontal>\n",
       "\t<dt>1</dt>\n",
       "\t\t<dd>5.10592784644188</dd>\n",
       "\t<dt>2</dt>\n",
       "\t\t<dd>14.348414379186</dd>\n",
       "\t<dt>3</dt>\n",
       "\t\t<dd>4.57953498850997</dd>\n",
       "\t<dt>4</dt>\n",
       "\t\t<dd>4.26773567883499</dd>\n",
       "\t<dt>5</dt>\n",
       "\t\t<dd>4.93046356046457</dd>\n",
       "\t<dt>6</dt>\n",
       "\t\t<dd>8.4160757549232</dd>\n",
       "</dl>\n"
      ],
      "text/latex": [
       "\\begin{description*}\n",
       "\\item[1] 5.10592784644188\n",
       "\\item[2] 14.348414379186\n",
       "\\item[3] 4.57953498850997\n",
       "\\item[4] 4.26773567883499\n",
       "\\item[5] 4.93046356046457\n",
       "\\item[6] 8.4160757549232\n",
       "\\end{description*}\n"
      ],
      "text/markdown": [
       "1\n",
       ":   5.105927846441882\n",
       ":   14.3484143791863\n",
       ":   4.579534988509974\n",
       ":   4.267735678834995\n",
       ":   4.930463560464576\n",
       ":   8.4160757549232\n",
       "\n"
      ],
      "text/plain": [
       "        1         2         3         4         5         6 \n",
       " 5.105928 14.348414  4.579535  4.267736  4.930464  8.416076 "
      ]
     },
     "metadata": {},
     "output_type": "display_data"
    }
   ],
   "source": [
    "head(predict(carrillo.ens, newdata = carrillo))"
   ]
  },
  {
   "cell_type": "markdown",
   "metadata": {},
   "source": [
    "We can obtain variable and base learner importances using the importance function. By\n",
    "default, importances are calculated over all training observations, but the importance function also allows for obtaining local importances calculated over a subset of the training data, through specification of the global and quantprobs arguments. To aid in interpretation, we request **standardized importances** in this example, so we can interpret the base learner importances as the absolute value of standardized multiple regression coefficients. "
   ]
  },
  {
   "cell_type": "code",
   "execution_count": 11,
   "metadata": {},
   "outputs": [
    {
     "data": {
      "image/png": "[encoded data removed]",
      "text/plain": [
       "Plot with title “Variable importances”"
      ]
     },
     "metadata": {},
     "output_type": "display_data",
     "source": "R display func"
    }
   ],
   "source": [
    "imps <- importance(carrillo.ens, standardize = TRUE, round = 4L)"
   ]
  },
  {
   "cell_type": "markdown",
   "metadata": {},
   "source": [
    "We can plot (a subset of) the final ensemble using the plot function. Below, standardize = TRUE is specified so that the importances in the plots are standardized, nterms = 6 so that only the six most important base learners will be plotted, plot.dim = c(2,3) so that the rules will be plotted in two rows and three columns and cex = .7 to scale the size of node and edge labels to fit the plot size.\n",
    "\n",
    "The most important base learner is rule80, involving n4 and open4. The second most important base learner is a linear term, involving n3. Together, these base learners indicate a positive association between neuroticism and depressive symptomatology, and a negative association between extraversion\n",
    "and openness and depressive symptomatology."
   ]
  },
  {
   "cell_type": "code",
   "execution_count": 13,
   "metadata": {},
   "outputs": [
    {
     "data": {
      "image/png": "[encoded data removed]",
      "text/plain": [
       "plot without title"
      ]
     },
     "metadata": {},
     "output_type": "display_data",
     "source": "R display func"
    }
   ],
   "source": [
    "plot(carrillo.ens, nterms = 6, plot.dim = c(2,3), standardize = TRUE, cex = .7)"
   ]
  },
  {
   "cell_type": "markdown",
   "metadata": {},
   "source": [
    "## **PARTIAL DEPENDENCE PLOTS**\n",
    "\n",
    "To further inspect the shape of the effect of individual input variables, we can obtain a **partial dependence plot** using the singleplot function.\n",
    "\n",
    "By default, pairplot employs a plotting color sequence going from yellow (lower values) to red (higher values). Here, a sequence from light to dark grey has been specified through the col argument. Here we can see the effect of the partial dependence of the depression variable on n4 and\n",
    "open4. The plot indicates that depressive symptomatology increases with increasing values of the neuroticism subscale, and decreases with increasing values of the openness subscale.\n",
    "\n",
    "We can find this also in python:\n",
    "![alt text](fig/partial_dependence.png \"Title\")"
   ]
  },
  {
   "cell_type": "code",
   "execution_count": 16,
   "metadata": {},
   "outputs": [
    {
     "name": "stderr",
     "output_type": "stream",
     "text": [
      "Updating HTML index of packages in '.Library'\n",
      "Making 'packages.html' ... done\n"
     ]
    }
   ],
   "source": [
    "#install.packages('akima')"
   ]
  },
  {
   "cell_type": "code",
   "execution_count": 17,
   "metadata": {},
   "outputs": [
    {
     "name": "stderr",
     "output_type": "stream",
     "text": [
      "Loading required package: akima\n",
      "NOTE: function pairplot uses package 'akima', which has an ACM license. See also https://www.acm.org/publications/policies/software-copyright-notice.\n"
     ]
    },
    {
     "data": {
      "image/png": "[encoded data removed]",
      "text/plain": [
       "plot without title"
      ]
     },
     "metadata": {},
     "output_type": "display_data",
     "source": "R display func"
    }
   ],
   "source": [
    "require(akima)\n",
    "pairplot(carrillo.ens, varnames = c(\"n4\", \"open4\"), col = grey(seq(1, .4, by = -.01)))"
   ]
  },
  {
   "cell_type": "code",
   "execution_count": null,
   "metadata": {},
   "outputs": [],
   "source": []
  }
 ],
 "metadata": {
  "kernelspec": {
   "display_name": "R",
   "language": "R",
   "name": "ir"
  },
  "language_info": {
   "codemirror_mode": "r",
   "file_extension": ".r",
   "mimetype": "text/x-r-source",
   "name": "R",
   "pygments_lexer": "r",
   "version": "3.5.1"
  }
 },
 "nbformat": 4,
 "nbformat_minor": 4
}
