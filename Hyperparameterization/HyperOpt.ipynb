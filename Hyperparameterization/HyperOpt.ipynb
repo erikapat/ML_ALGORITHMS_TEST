{
 "cells": [
  {
   "cell_type": "markdown",
   "metadata": {},
   "source": [
    "### Sequential model-based optimization\n",
    "\n",
    "\n",
    "\n",
    "* **HyperOpt**: Sequential model-based optimization is a Bayesian optimization technique that uses information from past trials to inform the next set of hyperparameters to explore, and there are two variants of this algorithm used in practice: (i) one based on the Gaussian process and the other on (ii) the Tree Parzen Estimator. The HyperOpt package implements the Tree Parzen Estimator algorithm.\n",
    "\n",
    "*****************************\n",
    "\n",
    "**Step 1:** Create the conda enviroments with the requirements in requirements.txt. Instructions [&lt;here&gt;](https://github.com/erikapat/python-tips/blob/master/Conda_enviroments.ipynb)."
   ]
  },
  {
   "cell_type": "code",
   "execution_count": 2,
   "metadata": {},
   "outputs": [],
   "source": [
    "#!pip install numpy==1.13.1\n",
    "#!conda install -c conda-forge hyperopt\n",
    "#!pip install hyperopt==0.2.2\n",
    "#!pip install scipy==0.19.1"
   ]
  },
  {
   "cell_type": "code",
   "execution_count": 22,
   "metadata": {},
   "outputs": [],
   "source": [
    "from sklearn.neighbors import KNeighborsClassifier\n",
    "from sklearn.model_selection import cross_val_score\n",
    "#from sklearn.preprocessing import scale\n",
    "from sklearn.preprocessing import normalize\n",
    "from hyperopt import hp, tpe, fmin, Trials, STATUS_OK"
   ]
  },
  {
   "cell_type": "code",
   "execution_count": 34,
   "metadata": {},
   "outputs": [
    {
     "name": "stderr",
     "output_type": "stream",
     "text": [
      "/Users/erikapat/anaconda3/lib/python3.7/site-packages/sklearn/ensemble/weight_boosting.py:29: DeprecationWarning: numpy.core.umath_tests is an internal NumPy module and should not be imported. It will be removed in a future NumPy release.\n",
      "  from numpy.core.umath_tests import inner1d\n"
     ]
    }
   ],
   "source": [
    "from sklearn.naive_bayes import BernoulliNB\n",
    "from sklearn.svm import SVC\n",
    "from sklearn.tree import DecisionTreeClassifier\n",
    "from sklearn.ensemble import RandomForestClassifier"
   ]
  },
  {
   "cell_type": "markdown",
   "metadata": {},
   "source": [
    "## **KNeighborsClassifier**"
   ]
  },
  {
   "cell_type": "code",
   "execution_count": 3,
   "metadata": {},
   "outputs": [
    {
     "name": "stdout",
     "output_type": "stream",
     "text": [
      "100%|██████████| 100/100 [00:01<00:00, 89.87it/s, best loss: -0.9869281045751634]\n"
     ]
    }
   ],
   "source": [
    "from sklearn import datasets\n",
    "iris = datasets.load_iris()\n",
    "X = iris.data\n",
    "y = iris.target\n",
    "def hyperopt_train_test(params):\n",
    "    clf = KNeighborsClassifier(**params)\n",
    "    return cross_val_score(clf, X, y).mean()\n",
    "space4knn = {\n",
    "    'n_neighbors': hp.choice('n_neighbors', range(1,100))\n",
    "}\n",
    "def f(params):\n",
    "    acc = hyperopt_train_test(params)\n",
    "    return {'loss': -acc, 'status': STATUS_OK}\n",
    "trials = Trials()\n",
    "best = fmin(f, space4knn, algo=tpe.suggest, max_evals=100, trials=trials)"
   ]
  },
  {
   "cell_type": "code",
   "execution_count": 4,
   "metadata": {},
   "outputs": [
    {
     "name": "stdout",
     "output_type": "stream",
     "text": [
      "best:\n",
      "{'n_neighbors': 4}\n"
     ]
    }
   ],
   "source": [
    "print('best:')\n",
    "print(best)"
   ]
  },
  {
   "cell_type": "markdown",
   "metadata": {},
   "source": [
    "## **SVC**"
   ]
  },
  {
   "cell_type": "code",
   "execution_count": 27,
   "metadata": {},
   "outputs": [
    {
     "name": "stdout",
     "output_type": "stream",
     "text": [
      "100%|██████████| 100/100 [00:02<00:00, 32.10it/s, best loss: -0.9934640522875817]\n",
      "best:\n",
      "{'C': 1.432441579188317, 'gamma': 17.599407611852758, 'kernel': 0}\n"
     ]
    }
   ],
   "source": [
    "iris = datasets.load_iris()\n",
    "X = iris.data\n",
    "y = iris.target\n",
    "def hyperopt_train_test(params):\n",
    "    X_ = X[:]\n",
    "    clf = SVC(**params)\n",
    "    return cross_val_score(clf, X_, y).mean()\n",
    "space4svm = {\n",
    "    'C': hp.uniform('C', 0, 20),\n",
    "    'kernel': hp.choice('kernel', ['linear', 'sigmoid', 'poly', 'rbf']),\n",
    "    'gamma': hp.uniform('gamma', 0, 20),\n",
    "}\n",
    "def f(params):\n",
    "    acc = hyperopt_train_test(params)\n",
    "    return {'loss': -acc, 'status': STATUS_OK}\n",
    "trials = Trials()\n",
    "best = fmin(f, space4svm, algo=tpe.suggest, max_evals=100, trials=trials)\n",
    "print('best:')\n",
    "print(best)"
   ]
  },
  {
   "cell_type": "markdown",
   "metadata": {},
   "source": [
    "## **DecisionTreeClassifier**"
   ]
  },
  {
   "cell_type": "code",
   "execution_count": 29,
   "metadata": {},
   "outputs": [
    {
     "name": "stdout",
     "output_type": "stream",
     "text": [
      "100%|██████████| 300/300 [00:01<00:00, 164.39it/s, best loss: -0.9738562091503268]\n",
      "best:\n",
      "{'criterion': 1, 'max_depth': 17, 'max_features': 2}\n"
     ]
    }
   ],
   "source": [
    "\n",
    "iris = datasets.load_iris()\n",
    "X_original = iris.data\n",
    "y_original = iris.target\n",
    "def hyperopt_train_test(params):\n",
    "    X_ = X[:]\n",
    "    clf = DecisionTreeClassifier(**params)\n",
    "    return cross_val_score(clf, X, y).mean()\n",
    "space4dt = {\n",
    "    'max_depth': hp.choice('max_depth', range(1,20)),\n",
    "    'max_features': hp.choice('max_features', range(1,5)),\n",
    "    'criterion': hp.choice('criterion', [\"gini\", \"entropy\"]),\n",
    "}\n",
    "def f(params):\n",
    "    acc = hyperopt_train_test(params)\n",
    "    return {'loss': -acc, 'status': STATUS_OK}\n",
    "trials = Trials()\n",
    "best = fmin(f, space4dt, algo=tpe.suggest, max_evals=300, trials=trials)\n",
    "print('best:')\n",
    "print(best)\n"
   ]
  },
  {
   "cell_type": "markdown",
   "metadata": {},
   "source": [
    "## **RandomForestClassifier**"
   ]
  },
  {
   "cell_type": "code",
   "execution_count": 38,
   "metadata": {},
   "outputs": [
    {
     "name": "stdout",
     "output_type": "stream",
     "text": [
      "100%|██████████| 300/300 [00:12<00:00, 24.45it/s, best loss: -0.9738562091503268]\n",
      "best:\n",
      "{'criterion': 1, 'max_depth': 5, 'max_features': 3, 'n_estimators': 0}\n"
     ]
    }
   ],
   "source": [
    "iris = datasets.load_iris()\n",
    "X_original = iris.data\n",
    "y_original = iris.target\n",
    "def hyperopt_train_test(params):\n",
    "    X_ = X[:]\n",
    "    clf = RandomForestClassifier(**params)\n",
    "    return cross_val_score(clf, X, y).mean()\n",
    "space4rf = {\n",
    "    'max_depth': hp.choice('max_depth', range(1,20)),\n",
    "    'max_features': hp.choice('max_features', range(1,5)),\n",
    "    'n_estimators': hp.choice('n_estimators', range(1,20)),\n",
    "    'criterion': hp.choice('criterion', [\"gini\", \"entropy\"]),\n",
    "}\n",
    "best = 0\n",
    "def f(params):\n",
    "    global best\n",
    "    acc = hyperopt_train_test(params)\n",
    "    if acc > best:\n",
    "        best = acc\n",
    "    #print('new best:', best, params)\n",
    "    return {'loss': -acc, 'status': STATUS_OK}\n",
    "\n",
    "trials = Trials()\n",
    "best = fmin(f, space4rf, algo=tpe.suggest, max_evals=300, trials=trials)\n",
    "print('best:')\n",
    "print(best)"
   ]
  },
  {
   "cell_type": "markdown",
   "metadata": {},
   "source": [
    "## **ALL AT ONCE**"
   ]
  },
  {
   "cell_type": "code",
   "execution_count": 19,
   "metadata": {},
   "outputs": [],
   "source": [
    "from sklearn.naive_bayes import BernoulliNB\n",
    "from sklearn.svm import SVC"
   ]
  },
  {
   "cell_type": "code",
   "execution_count": null,
   "metadata": {},
   "outputs": [
    {
     "name": "stdout",
     "output_type": "stream",
     "text": [
      "(1797, 64) (1797,)\n",
      "new best:                                             \n",
      "0.9437997276286755                                    \n",
      "using                                                 \n",
      "svm                                                   \n",
      "new best:                                                                       \n",
      "0.968293886616605                                                               \n",
      "using                                                                           \n",
      "knn                                                                             \n",
      "iters:                                                                          \n",
      "50                                                                              \n",
      ", acc:                                                                          \n",
      "0.824145826346896                                                               \n",
      "using                                                                           \n",
      "{'alpha': 1.5328813416239089, 'type': 'naive_bayes'}                            \n",
      "iters:                                                                          \n",
      "100                                                                             \n",
      ", acc:                                                                          \n",
      "0.9376812991712885                                                              \n",
      "using                                                                           \n",
      "{'n_neighbors': 26, 'type': 'knn'}                                              \n",
      "iters:                                                                           \n",
      "150                                                                              \n",
      ", acc:                                                                           \n",
      "0.9438138168274864                                                               \n",
      "using                                                                            \n",
      "{'n_neighbors': 22, 'type': 'knn'}                                               \n",
      "iters:                                                                           \n",
      "200                                                                              \n",
      ", acc:                                                                           \n",
      "0.9243199089139192                                                               \n",
      "using                                                                            \n",
      "{'n_neighbors': 44, 'type': 'knn'}                                               \n",
      "iters:                                                                           \n",
      "250                                                                              \n",
      ", acc:                                                                           \n",
      "0                                                                                \n",
      "using                                                                            \n",
      "{'criterion': 'entropy', 'max_depth': 11, 'max_features': 4, 'n_estimators': 5, 'normalize': 0, 'scale': 0, 'type': 'randomforest'}\n",
      "iters:                                                                           \n",
      "300                                                                              \n",
      ", acc:                                                                           \n",
      "0.9293255667415895                                                               \n",
      "using                                                                            \n",
      "{'n_neighbors': 38, 'type': 'knn'}                                               \n",
      "iters:                                                                           \n",
      "350                                                                              \n",
      ", acc:                                                                           \n",
      "0.9376812991712885                                                               \n",
      "using                                                                            \n",
      "{'n_neighbors': 26, 'type': 'knn'}                                               \n",
      "iters:                                                                           \n",
      "400                                                                              \n",
      ", acc:                                                                           \n",
      "0.9437997276286755                                                               \n",
      "using                                                                            \n",
      "{'C': 4.74548788813779, 'gamma': 3.680831920912013, 'kernel': 'linear', 'type': 'svm'}\n",
      "iters:                                                                           \n",
      "450                                                                              \n",
      ", acc:                                                                           \n",
      "0.9644039680147021                                                               \n",
      "using                                                                            \n",
      "{'n_neighbors': 4, 'type': 'knn'}                                                \n",
      "iters:                                                                           \n",
      "500                                                                              \n",
      ", acc:                                                                           \n",
      "0.9404776918351127                                                               \n",
      "using                                                                            \n",
      "{'n_neighbors': 25, 'type': 'knn'}                                               \n",
      "iters:                                                                           \n",
      "550                                                                              \n",
      ", acc:                                                                           \n",
      "0.9599436726115393                                                               \n",
      "using                                                                            \n",
      "{'n_neighbors': 6, 'type': 'knn'}                                                \n",
      "iters:                                                                           \n",
      "600                                                                              \n",
      ", acc:                                                                           \n",
      "0.9215402111131507                                                               \n",
      "using                                                                            \n",
      "{'n_neighbors': 49, 'type': 'knn'}                                               \n",
      "iters:                                                                           \n",
      "650                                                                              \n",
      ", acc:                                                                           \n",
      "0.9320940881039355                                                               \n",
      "using                                                                            \n",
      "{'n_neighbors': 34, 'type': 'knn'}                                               \n",
      "iters:                                                                           \n",
      "700                                                                              \n",
      ", acc:                                                                           \n",
      "0.968293886616605                                                                \n",
      "using                                                                            \n",
      "{'n_neighbors': 3, 'type': 'knn'}                                                \n",
      "iters:                                                                           \n",
      "750                                                                              \n",
      ", acc:                                                                           \n",
      "0.9215402111131507                                                               \n",
      "using                                                                            \n",
      "{'n_neighbors': 48, 'type': 'knn'}                                               \n",
      "iters:                                                                           \n",
      "800                                                                              \n",
      ", acc:                                                                           \n",
      "0.9543815596744324                                                               \n",
      "using                                                                            \n",
      "{'n_neighbors': 11, 'type': 'knn'}                                               \n",
      "iters:                                                                           \n",
      "850                                                                              \n",
      ", acc:                                                                           \n",
      "0.9594011112760952                                                               \n",
      "using                                                                            \n",
      "{'n_neighbors': 7, 'type': 'knn'}                                                \n",
      "iters:                                                                           \n",
      "900                                                                              \n",
      ", acc:                                                                           \n",
      "0.9321052366245267                                                               \n",
      "using                                                                            \n",
      "{'n_neighbors': 35, 'type': 'knn'}                                               \n",
      "iters:                                                                           \n",
      "950                                                                              \n",
      ", acc:                                                                           \n",
      "0.968293886616605                                                                \n",
      "using                                                                            \n",
      "{'n_neighbors': 3, 'type': 'knn'}                                                \n",
      "iters:                                                                           \n",
      "1000                                                                             \n",
      ", acc:                                                                           \n",
      "0.968293886616605                                                                \n",
      "using                                                                            \n",
      "{'n_neighbors': 3, 'type': 'knn'}                                                \n",
      "iters:                                                                            \n",
      "1050                                                                              \n",
      ", acc:                                                                            \n",
      "0.9376812991712885                                                                \n",
      "using                                                                             \n",
      "{'n_neighbors': 26, 'type': 'knn'}                                                \n",
      "iters:                                                                            \n",
      "1100                                                                              \n",
      ", acc:                                                                            \n",
      "0.9215402390309818                                                                \n",
      "using                                                                             \n",
      "{'n_neighbors': 45, 'type': 'knn'}                                                \n",
      "iters:                                                                            \n",
      "1150                                                                              \n",
      ", acc:                                                                            \n",
      "0.9438138168274864                                                                \n",
      "using                                                                             \n",
      "{'n_neighbors': 22, 'type': 'knn'}                                                \n",
      "iters:                                                                            \n",
      "1200                                                                              \n",
      ", acc:                                                                            \n",
      "0.9332042809872384                                                                \n",
      "using                                                                             \n",
      "{'n_neighbors': 33, 'type': 'knn'}                                                \n",
      "iters:                                                                            \n",
      "1250                                                                              \n",
      ", acc:                                                                            \n",
      "0.9265403225983565                                                                \n",
      "using                                                                             \n",
      "{'n_neighbors': 43, 'type': 'knn'}                                                \n",
      "iters:                                                                            \n",
      "1300                                                                              \n",
      ", acc:                                                                            \n",
      "0.968293886616605                                                                 \n",
      "using                                                                             \n",
      "{'n_neighbors': 3, 'type': 'knn'}                                                 \n",
      "iters:                                                                            \n",
      "1350                                                                              \n",
      ", acc:                                                                            \n",
      "0.9321052366245267                                                                \n",
      "using                                                                             \n",
      "{'n_neighbors': 35, 'type': 'knn'}                                                \n",
      " 92%|█████████▏| 1375/1500 [04:47<00:27,  4.50it/s, best loss: -0.968293886616605]"
     ]
    }
   ],
   "source": [
    "digits = datasets.load_digits()\n",
    "X = digits.data\n",
    "y = digits.target\n",
    "print(X.shape, y.shape)\n",
    "def hyperopt_train_test(params):\n",
    "    t = params['type']\n",
    "    del params['type']\n",
    "    if t == 'naive_bayes':\n",
    "        clf = BernoulliNB(**params)\n",
    "    elif t == 'svm':\n",
    "        clf = SVC(**params)\n",
    "    elif t == 'dtree':\n",
    "        clf = DecisionTreeClassifier(**params)\n",
    "    elif t == 'knn':\n",
    "        clf = KNeighborsClassifier(**params)\n",
    "    else:\n",
    "        return 0\n",
    "    return cross_val_score(clf, X, y).mean()\n",
    "space = hp.choice('classifier_type', [\n",
    "    {\n",
    "        'type': 'naive_bayes',\n",
    "        'alpha': hp.uniform('alpha', 0.0, 2.0)\n",
    "    },\n",
    "    {\n",
    "        'type': 'svm',\n",
    "        'C': hp.uniform('C', 0, 10.0),\n",
    "        'kernel': hp.choice('kernel', ['linear', 'rbf']),\n",
    "        'gamma': hp.uniform('gamma', 0, 20.0)\n",
    "    },\n",
    "    {\n",
    "        'type': 'randomforest',\n",
    "        'max_depth': hp.choice('max_depth', range(1,20)),\n",
    "        'max_features': hp.choice('max_features', range(1,5)),\n",
    "        'n_estimators': hp.choice('n_estimators', range(1,20)),\n",
    "        'criterion': hp.choice('criterion', [\"gini\", \"entropy\"]),\n",
    "        'scale': hp.choice('scale', [0, 1]),\n",
    "        'normalize': hp.choice('normalize', [0, 1])\n",
    "    },\n",
    "    {\n",
    "        'type': 'knn',\n",
    "        'n_neighbors': hp.choice('knn_n_neighbors', range(1,50))\n",
    "    }\n",
    "])\n",
    "count = 0\n",
    "best = 0\n",
    "def f(params):\n",
    "    global best, count\n",
    "    count += 1\n",
    "    acc = hyperopt_train_test(params.copy())\n",
    "    if acc > best:\n",
    "        print('new best:', acc, 'using', params['type'])\n",
    "        best = acc\n",
    "    if count % 50 == 0:\n",
    "        print('iters:', count, ', acc:', acc, 'using', params)\n",
    "    return {'loss': -acc, 'status': STATUS_OK}\n",
    "trials = Trials()\n",
    "best = fmin(f, space, algo=tpe.suggest, max_evals=1500, trials=trials)"
   ]
  },
  {
   "cell_type": "markdown",
   "metadata": {},
   "source": [
    "## REFERENCES:\n",
    "1. [&lt;HyperOpt&gt;](https://blog.dominodatalab.com/hyperopt-bayesian-hyperparameter-optimization/?utm_source=house-list&utm_medium=email&utm_campaign=General&mkt_tok=eyJpIjoiTkdNeE9UZzJOV1l3Wm1SaiIsInQiOiJcL2VobUxHYnpHRHdaQWJ6eVwvNHZBSjVKVlJKbURwZ2wzdjliNHVtbVdTa2FGM0FVU2NkQVN6QVhFNHFOVnA4TTNVeDBLY2U0YlgwXC9KNFwvYlhIVFJyR0NsYTFscjh2TzR5MjB4T1UxSzgrdHM3eHNYcFRnZHdJZlpJZHB4bFNSdXAifQ%3D%3D).\n",
    "* http://henrymossblog.blogspot.com/2017/02/bayesian-hyperparameter-tuning-with_16.html\n",
    "* https://machinelearningmastery.com/what-is-bayesian-optimization/"
   ]
  },
  {
   "cell_type": "code",
   "execution_count": null,
   "metadata": {},
   "outputs": [],
   "source": []
  },
  {
   "cell_type": "code",
   "execution_count": null,
   "metadata": {},
   "outputs": [],
   "source": []
  }
 ],
 "metadata": {
  "kernelspec": {
   "display_name": "Python 3",
   "language": "python",
   "name": "python3"
  },
  "language_info": {
   "codemirror_mode": {
    "name": "ipython",
    "version": 3
   },
   "file_extension": ".py",
   "mimetype": "text/x-python",
   "name": "python",
   "nbconvert_exporter": "python",
   "pygments_lexer": "ipython3",
   "version": "3.7.4"
  }
 },
 "nbformat": 4,
 "nbformat_minor": 4
}
