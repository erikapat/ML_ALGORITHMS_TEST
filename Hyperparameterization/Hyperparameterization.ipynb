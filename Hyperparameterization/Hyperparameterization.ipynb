{
 "cells": [
  {
   "cell_type": "markdown",
   "metadata": {},
   "source": [
    "### Hyperparameterization\n",
    "\n",
    "There are many open source implementations available for experimenting with Bayesian Optimisation, including (but not limited to):\n",
    "\n",
    "* **HyperOpt**\n",
    "* **Spearmint**\n",
    "* **BayesOpt**\n",
    "* **Gpyopt:** Optimización bayesiana para la exploración de hiperparámetros.\n",
    "* **MOE**\n",
    "\n"
   ]
  },
  {
   "cell_type": "code",
   "execution_count": null,
   "metadata": {},
   "outputs": [],
   "source": []
  },
  {
   "cell_type": "markdown",
   "metadata": {},
   "source": [
    "## REFERENCES:\n",
    "* http://henrymossblog.blogspot.com/2017/02/bayesian-hyperparameter-tuning-with_16.html\n",
    "* https://machinelearningmastery.com/what-is-bayesian-optimization/"
   ]
  },
  {
   "cell_type": "code",
   "execution_count": null,
   "metadata": {},
   "outputs": [],
   "source": []
  }
 ],
 "metadata": {
  "kernelspec": {
   "display_name": "Python 3",
   "language": "python",
   "name": "python3"
  },
  "language_info": {
   "codemirror_mode": {
    "name": "ipython",
    "version": 3
   },
   "file_extension": ".py",
   "mimetype": "text/x-python",
   "name": "python",
   "nbconvert_exporter": "python",
   "pygments_lexer": "ipython3",
   "version": "3.7.4"
  }
 },
 "nbformat": 4,
 "nbformat_minor": 4
}
