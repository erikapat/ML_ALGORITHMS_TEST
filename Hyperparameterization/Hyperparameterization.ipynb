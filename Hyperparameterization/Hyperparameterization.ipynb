{
 "cells": [
  {
   "cell_type": "markdown",
   "metadata": {},
   "source": [
    "### Hyperparameterization\n",
    "\n",
    "There are six main approaches to hyperparameter optimization which include:\n",
    "\n",
    "* manual search, \n",
    "* grid search, \n",
    "* random search, \n",
    "* evolutionary algorithms, \n",
    "* Bayesian optimization, and \n",
    "* gradient based methods. \n",
    "\n",
    "Here, we would analyse **Bayesian Alternatives**. \n",
    "\n",
    "There are many open source implementations available for experimenting with Bayesian Optimisation, including (but not limited to):\n",
    "\n",
    "* **HyperOpt**: Sequential model-based optimization is a Bayesian optimization technique that uses information from past trials to inform the next set of hyperparameters to explore, and there are two variants of this algorithm used in practice: (i) one based on the Gaussian process and the other on (ii) the Tree Parzen Estimator. The HyperOpt package implements the Tree Parzen Estimator algorithm.\n",
    "\n",
    "**Step 1:** Create the conda enviroments with the requirements in requirements.txt. Instructions [&lt;here&gt;](https://github.com/erikapat/python-tips/blob/master/Conda_enviroments.ipynb)."
   ]
  },
  {
   "cell_type": "code",
   "execution_count": null,
   "metadata": {},
   "outputs": [],
   "source": [
    "!pip install numpy==1.13.1\n",
    "!pip install hyperopt\n",
    "!pip install scipy==0.19.1"
   ]
  },
  {
   "cell_type": "markdown",
   "metadata": {},
   "source": [
    "* **Spearmint**\n",
    "* **BayesOpt**\n",
    "* **Gpyopt:** Optimización bayesiana para la exploración de hiperparámetros.\n",
    "* **MOE**"
   ]
  },
  {
   "cell_type": "markdown",
   "metadata": {},
   "source": [
    "## REFERENCES:\n",
    "1. [&lt;HyperOpt&gt;](https://blog.dominodatalab.com/hyperopt-bayesian-hyperparameter-optimization/?utm_source=house-list&utm_medium=email&utm_campaign=General&mkt_tok=eyJpIjoiTkdNeE9UZzJOV1l3Wm1SaiIsInQiOiJcL2VobUxHYnpHRHdaQWJ6eVwvNHZBSjVKVlJKbURwZ2wzdjliNHVtbVdTa2FGM0FVU2NkQVN6QVhFNHFOVnA4TTNVeDBLY2U0YlgwXC9KNFwvYlhIVFJyR0NsYTFscjh2TzR5MjB4T1UxSzgrdHM3eHNYcFRnZHdJZlpJZHB4bFNSdXAifQ%3D%3D).\n",
    "* http://henrymossblog.blogspot.com/2017/02/bayesian-hyperparameter-tuning-with_16.html\n",
    "* https://machinelearningmastery.com/what-is-bayesian-optimization/"
   ]
  },
  {
   "cell_type": "code",
   "execution_count": null,
   "metadata": {},
   "outputs": [],
   "source": []
  }
 ],
 "metadata": {
  "kernelspec": {
   "display_name": "Python 3",
   "language": "python",
   "name": "python3"
  },
  "language_info": {
   "codemirror_mode": {
    "name": "ipython",
    "version": 3
   },
   "file_extension": ".py",
   "mimetype": "text/x-python",
   "name": "python",
   "nbconvert_exporter": "python",
   "pygments_lexer": "ipython3",
   "version": "3.7.4"
  }
 },
 "nbformat": 4,
 "nbformat_minor": 4
}
