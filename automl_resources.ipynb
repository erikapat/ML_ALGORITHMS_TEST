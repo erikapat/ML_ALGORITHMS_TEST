{
 "cells": [
  {
   "cell_type": "code",
   "execution_count": null,
   "metadata": {},
   "outputs": [],
   "source": []
  },
  {
   "cell_type": "code",
   "execution_count": null,
   "metadata": {},
   "outputs": [],
   "source": [
    "https://www.bbvadata.com/es/accelerating-data-science-workflows/"
   ]
  },
  {
   "cell_type": "markdown",
   "metadata": {},
   "source": [
    "Herramientas para ayudar en búsqueda de datos (Data Discovery)\n",
    "\n",
    "* Amundsen: Motor de búsqueda de datos y metadatos para facilitar la búsqueda en bases de datos corporativas.\n",
    "* Herramientas para la exploración de datos:\n",
    "\n",
    "Tensorflow Data Validation: Explora bases de datos rápidamente utilizando el marco de trabajo de Tensorflow.\n",
    "\n",
    "InspectDF: Una herramienta de R para resumir, inspeccionar y visualizar información dentro de un dataframe.\n",
    "\n",
    "Feature:\n",
    "\n",
    "FeatureTOOLS: Descubrir atributos desde datos tabulados.\n",
    "\n",
    "Ludwig: Herramientas para reutilizar representaciones (embeddings y capas de arquitectura) en Deep Learning para tipos complejos, como imágenes o textos.\n",
    "\n",
    "BBVA Data & Analytics también ha experimentado con embeddings con entidades de domínios específicos con client2vec.\n",
    "\n",
    "Hiperparámetros:\n",
    "\n",
    "Gpyopt: Optimización bayesiana para la exploración de hiperparámetros.\n",
    "\n",
    "Búsqueda de arquitectura de redes neuronales\n",
    "\n",
    "Autokeras: Búsqueda automática de hiperparámetros en Keras.\n",
    "\n",
    "AutoML: Herramienta para construir modelos de aprendizaje autónomo en sólo unos clicks (utiliza búsqueda de arquitectura de redes neuronales y transferencia de aprendizajes por detrás).\n",
    "\n",
    "Definición y optimización de un pipeline de aprendizaje autónomo\n",
    "\n",
    "TPOT: Una librería de python descrita como “tu asistente de ciencia de datos” permite definir pipelines de aprendizaje autónomo y realizar optimizaciones automáticas de extremo a extremo.\n",
    "\n",
    "TransmogrifAI: Una librería de Spark/Scala para preparar y optimizar pipelines de aprendizaje autónomo.\n",
    " \n",
    "ML validación y evaluación de modelos\n",
    "\n",
    "What if: Una interfaz que permite explorar fácilmente e interpretar modelos entrenados, entender la influencia de features y ejemplos de resultados.\n",
    "\n",
    "SHAP: explicación de predicción de modelos de cajas negras.\n",
    "\n",
    "Uber Manifold :  Herramienta para comparar modelos y depurarlos, así como para validar resultados de modelos con diferentes subconjuntos de datos.\n",
    " \n",
    "\n",
    "Despliegue de modelos:\n",
    "\n",
    "Amazon Sagemaker : un marco para la creación, entrenamiento y despliegue de modelos de aprendizaje automático que se enfoca en el despliegue  en casos de uso común.\n",
    " "
   ]
  },
  {
   "cell_type": "code",
   "execution_count": null,
   "metadata": {},
   "outputs": [],
   "source": []
  }
 ],
 "metadata": {
  "kernelspec": {
   "display_name": "Python 3",
   "language": "python",
   "name": "python3"
  },
  "language_info": {
   "codemirror_mode": {
    "name": "ipython",
    "version": 3
   },
   "file_extension": ".py",
   "mimetype": "text/x-python",
   "name": "python",
   "nbconvert_exporter": "python",
   "pygments_lexer": "ipython3",
   "version": "3.7.4"
  }
 },
 "nbformat": 4,
 "nbformat_minor": 4
}
