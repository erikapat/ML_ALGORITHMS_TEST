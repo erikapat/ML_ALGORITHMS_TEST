{
 "cells": [
  {
   "cell_type": "markdown",
   "metadata": {},
   "source": [
    "## **Other things to read in the near future**"
   ]
  },
  {
   "cell_type": "markdown",
   "metadata": {},
   "source": [
    "#### **Association Rules**\n",
    "\n",
    "* https://stackabuse.com/association-rule-mining-via-apriori-algorithm-in-python/"
   ]
  },
  {
   "cell_type": "markdown",
   "metadata": {},
   "source": [
    "#### **Anomaly detection**\n",
    "\n",
    "* https://github.com/yzhao062/anomaly-detection-resources\n",
    "* https://arxiv.org/pdf/1901.08930v1.pdf\n",
    "\n",
    "#### **Adversarial examples** \n",
    "* https://github.com/freedombenLiu/ad_examples\n",
    "* https://github.com/shubhomoydas/ad_examples\n",
    "\n",
    "#### **Active learning** \n",
    "* https://medium.com/towards-artificial-intelligence/how-to-use-active-learning-to-iteratively-improve-your-machine-learning-models-1c6164bdab99\n",
    "* https://github.com/hsm207/Strata2018/blob/blog/text_classification/1_wiki_detox_active_learning_workshop.Rmd"
   ]
  },
  {
   "cell_type": "code",
   "execution_count": null,
   "metadata": {},
   "outputs": [],
   "source": []
  }
 ],
 "metadata": {
  "kernelspec": {
   "display_name": "Python 3",
   "language": "python",
   "name": "python3"
  },
  "language_info": {
   "codemirror_mode": {
    "name": "ipython",
    "version": 3
   },
   "file_extension": ".py",
   "mimetype": "text/x-python",
   "name": "python",
   "nbconvert_exporter": "python",
   "pygments_lexer": "ipython3",
   "version": "3.7.4"
  }
 },
 "nbformat": 4,
 "nbformat_minor": 4
}
