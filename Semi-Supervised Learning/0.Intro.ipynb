{
 "cells": [
  {
   "cell_type": "markdown",
   "metadata": {},
   "source": [
    "## Semi-supervised learning"
   ]
  },
  {
   "cell_type": "markdown",
   "metadata": {},
   "source": [
    "**Semi-supervised learning** is the situation where your training data has both labelled data (supervised learning) and unlabelled data (unsupervised learning) to solve ML problems.\n",
    "\n",
    "The advantage of using unlabelled data are:\n",
    "\n",
    "* Labelled data is expensive and difficult to get while unlabelled is abundant and cheap.\n",
    "* It improves the model robustness by more precise decision boundary."
   ]
  },
  {
   "cell_type": "markdown",
   "metadata": {},
   "source": [
    "## **Algorithms:**\n",
    "\n",
    "* **Combination of unsupervised (K-means, EM, etc) methods and supervised methods (classical models)**\n",
    "* **Pseudo-Labelling** [Here](https://www.analyticsvidhya.com/blog/2017/09/pseudo-labelling-semi-supervised-learning-technique/)\n",
    "* **LabelPropagation and LabelSpreading** (denotes a few variations of semi-supervised graph inference algorithms)\n",
    "* Active and Pasive learning [here](https://www.datacamp.com/community/tutorials/active-learning) & [here](https://www.lighttag.io/blog/active-learning-optimization-is-not-imporvement/)\n",
    "* Semi-Supervised GAN (generative adversarial networks)\n",
    "* Graph-Based Semi-Supervised Learning [here](https://subscription.packtpub.com/book/big_data_and_business_intelligence/9781789957211/3)\n",
    "* **S3VM**\n",
    "* **Multiview Algorithms**\n",
    "* **Meta-learning**"
   ]
  },
  {
   "cell_type": "code",
   "execution_count": null,
   "metadata": {},
   "outputs": [],
   "source": []
  }
 ],
 "metadata": {
  "kernelspec": {
   "display_name": "Python 3",
   "language": "python",
   "name": "python3"
  },
  "language_info": {
   "codemirror_mode": {
    "name": "ipython",
    "version": 3
   },
   "file_extension": ".py",
   "mimetype": "text/x-python",
   "name": "python",
   "nbconvert_exporter": "python",
   "pygments_lexer": "ipython3",
   "version": "3.7.4"
  }
 },
 "nbformat": 4,
 "nbformat_minor": 4
}
