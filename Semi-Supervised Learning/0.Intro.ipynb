{
 "cells": [
  {
   "cell_type": "markdown",
   "metadata": {},
   "source": [
    "## Semi-supervised learning"
   ]
  },
  {
   "cell_type": "markdown",
   "metadata": {},
   "source": [
    "**Semi-supervised learning** is the situation where your training data has both labelled data (supervised learning) and unlabelled data (unsupervised learning) to solve ML problems.\n",
    "\n",
    "The advantage of using unlabelled data are:\n",
    "\n",
    "* Labelled data is expensive and difficult to get while unlabelled is abundant and cheap.\n",
    "* It improves the model robustness by more precise decision boundary."
   ]
  },
  {
   "cell_type": "markdown",
   "metadata": {},
   "source": [
    "## **Algorithms:**\n",
    "\n",
    "* **Combination of unsupervised (K-means, EM, etc) methods and supervised methods (classical models)**\n",
    "* **Pseudo-Labelling** [Here](https://www.analyticsvidhya.com/blog/2017/09/pseudo-labelling-semi-supervised-learning-technique/)\n",
    "* **LabelPropagation and LabelSpreading** (denotes a few variations of semi-supervised graph inference algorithms)\n",
    "* Active and Pasive learning [here](https://www.datacamp.com/community/tutorials/active-learning) & [here](https://www.lighttag.io/blog/active-learning-optimization-is-not-imporvement/)\n",
    "* Semi-Supervised GAN (generative adversarial networks)\n",
    "* Graph-Based Semi-Supervised Learning [here](https://subscription.packtpub.com/book/big_data_and_business_intelligence/9781789957211/3)\n",
    "* **S3VM**\n",
    "* **Multiview Algorithms**\n",
    "* **Meta-learning**"
   ]
  },
  {
   "cell_type": "markdown",
   "metadata": {},
   "source": [
    "Existen diferentes metodologías de aplicación de las técnicas de Active Learning (AL). En general, la estrategia consiste en que el algoritmo seleccione los ejemplos más informativos, de manera que se optimice la cantidad de información minimizando el número de ejemplos. Para solicitar los nuevos elementos a anotar, los algoritmos de AL utilizan diferentes técnicas de sampling. Normalmente el sampling está guiado por la incertidumbre de cada ejemplo lo cual se calcula en función del algoritmo de clasificación correspondiente. "
   ]
  },
  {
   "cell_type": "markdown",
   "metadata": {},
   "source": [
    "Topic modelling and Active leangning relation\n",
    "\n",
    "Tools\n",
    "\n",
    "* https://www.knime.com/blog/labeling-with-active-learning\n",
    "* https://medium.com/mindboard/active-learning-for-fast-data-set-labeling-890d4080d750\n",
    "* https://towardsdatascience.com/active-learning-on-mnist-saving-on-labeling-f3971994c7ba\n",
    "* https://medium.com/mindboard/active-learning-for-fast-data-set-labeling-890d4080d750\n",
    "* http://www-personal.umich.edu/~wmebane/active-learning-approaches-4-18-2018.pdf\n",
    "* good intro: https://www.geeksforgeeks.org/ml-active-learning/\n",
    "* interesting: https://scikit-learn.org/stable/auto_examples/semi_supervised/plot_label_propagation_digits_active_learning.html\n",
    "* set of papers\n",
    "https://paperswithcode.com/task/active-learning\n",
    "\n",
    "*types of learning: https://machinelearningmastery.com/types-of-learning-in-machine-learning/"
   ]
  },
  {
   "cell_type": "code",
   "execution_count": null,
   "metadata": {},
   "outputs": [],
   "source": []
  }
 ],
 "metadata": {
  "kernelspec": {
   "display_name": "Python 3",
   "language": "python",
   "name": "python3"
  },
  "language_info": {
   "codemirror_mode": {
    "name": "ipython",
    "version": 3
   },
   "file_extension": ".py",
   "mimetype": "text/x-python",
   "name": "python",
   "nbconvert_exporter": "python",
   "pygments_lexer": "ipython3",
   "version": "3.7.4"
  }
 },
 "nbformat": 4,
 "nbformat_minor": 4
}
