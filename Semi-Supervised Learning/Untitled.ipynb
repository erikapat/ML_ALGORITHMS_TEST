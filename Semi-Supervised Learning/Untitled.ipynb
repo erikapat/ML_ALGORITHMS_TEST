{
 "cells": [
  {
   "cell_type": "markdown",
   "metadata": {},
   "source": [
    "## **Active Learning**"
   ]
  },
  {
   "cell_type": "markdown",
   "metadata": {},
   "source": [
    "This is a very powerful tool which can be used when there is a shortage of labelled data. Active learning can be thought of as a type of 'design methodology' similar to **transfer learning**, which can also be used to leverage small amounts of labelled data.\n",
    "\n",
    "The main hypothesis in active learning is that if a learning algorithm can choose the data it wants to learn from, it can perform better than traditional methods (passive learning) with substantially less data for training.\n",
    "\n",
    "An active learning environment includes a learner (the model being trained), huge amount of raw and unlabelled data, and the expert (the person/system labelling the data). The role of the learner is to choose which instances or examples should be labelled. The learner’s goal is to reduce the number of labeled examples needed for an ML model to learn. On the other hand, the expert on receiving the data to be labelled, analyzes the data to determine appropriate labels for it.\n",
    "\n",
    "There are three types of Active learning scenarios.\n",
    "\n",
    "**Query Synthesis** – In such a scenario, the learner constructs examples, which are further sent to the expert for labeling.\n",
    "**Stream-based active learning** – Here, from the stream of unlabelled data, the learner decides the instances to be labelled or choose to discard them.\n",
    "**Pool-based active learning** – This is the most common scenario in active learning. Here, the learner chooses only the most informative or best instances and forwards them to the expert for labelling."
   ]
  },
  {
   "cell_type": "code",
   "execution_count": null,
   "metadata": {},
   "outputs": [],
   "source": []
  }
 ],
 "metadata": {
  "kernelspec": {
   "display_name": "Python 3",
   "language": "python",
   "name": "python3"
  },
  "language_info": {
   "codemirror_mode": {
    "name": "ipython",
    "version": 3
   },
   "file_extension": ".py",
   "mimetype": "text/x-python",
   "name": "python",
   "nbconvert_exporter": "python",
   "pygments_lexer": "ipython3",
   "version": "3.7.4"
  }
 },
 "nbformat": 4,
 "nbformat_minor": 4
}
