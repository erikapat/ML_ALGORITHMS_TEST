{
 "cells": [
  {
   "cell_type": "markdown",
   "metadata": {},
   "source": [
    "## **ITERACTION STRENGTH**"
   ]
  },
  {
   "cell_type": "markdown",
   "metadata": {},
   "source": [
    "\n",
    "**H-statistic**\n",
    "\n",
    "One way to estimate the interaction strength is to measure how much of the variation of the prediction depends on the interaction of the features.\n",
    "\n",
    "It is possible to measure two cases:\n",
    "\n",
    "1. First, a two-way interaction measure that tells us whether and to what extend two features in the model interact with each other; \n",
    "2. second, a total interaction measure that tells us whether and to what extend a feature interacts in the model with all the other features.\n",
    "\n",
    "In theory, arbitrary interactions between any number of features can be measured, but these two are the most interesting cases.\n",
    "\n",
    "**Characteristics**\n",
    "\n",
    "* The interaction H-statistic takes a long time to compute, because it is computationally expensive.\n",
    "\n",
    "**Packages and Modules**\n",
    "\n",
    "The R package iml, which is available on CRAN and on Github. There are other implementations as the R package 'pre' that implements RuleFit and H-statistic. The R package **gbm implements gradient boosted models and H-statistic**.\n",
    "\n",
    "\n",
    "**Alternatives:** N-Way ANOVA, Variable Interaction Networks (VIN) "
   ]
  },
  {
   "cell_type": "code",
   "execution_count": null,
   "metadata": {},
   "outputs": [],
   "source": []
  },
  {
   "cell_type": "code",
   "execution_count": null,
   "metadata": {},
   "outputs": [],
   "source": []
  }
 ],
 "metadata": {
  "kernelspec": {
   "display_name": "Python 3",
   "language": "python",
   "name": "python3"
  },
  "language_info": {
   "codemirror_mode": {
    "name": "ipython",
    "version": 3
   },
   "file_extension": ".py",
   "mimetype": "text/x-python",
   "name": "python",
   "nbconvert_exporter": "python",
   "pygments_lexer": "ipython3",
   "version": "3.7.4"
  }
 },
 "nbformat": 4,
 "nbformat_minor": 4
}
