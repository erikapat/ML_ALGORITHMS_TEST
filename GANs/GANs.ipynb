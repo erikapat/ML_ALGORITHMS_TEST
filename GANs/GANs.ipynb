{
 "cells": [
  {
   "cell_type": "code",
   "execution_count": null,
   "metadata": {},
   "outputs": [],
   "source": []
  },
  {
   "cell_type": "markdown",
   "metadata": {},
   "source": [
    "## **GANs**\n",
    " \n",
    "Are you a data scientist interested in training a classifier but do not have enough data? Are you interested in generating data to potentially improve the accuracy of your models? Have you heard of GANs yet are hesitant to dive in because of potential training instability or failure to converge issues? If so, attend the upcoming webinar, \"Generative Adversarial Networks (GAN): A Distilled Hands-On Tutorial\", by Nikolay Manchev, Domino Principal Data Scientist for EMEA on January 15th.\n",
    "\n",
    "In this hands-on code webinar, Manchev covers\n",
    "\n",
    "the GAN framework.\n",
    "how to implement a basic GAN model.\n",
    "how adversarial networks are used to generate training samples.\n",
    "training difficulties, including mode collapse.\n",
    "recent research to improve upon GANs' training, including Wasserstein GAN (WGAN).\n",
    "\n",
    "example in :\n",
    "https://www.logicalclocks.com/blog/ai-deep-learning-for-anti-money-laundering"
   ]
  },
  {
   "cell_type": "code",
   "execution_count": 1,
   "metadata": {},
   "outputs": [
    {
     "data": {
      "text/plain": [
       "4"
      ]
     },
     "execution_count": 1,
     "metadata": {},
     "output_type": "execute_result"
    }
   ],
   "source": [
    "2+2"
   ]
  },
  {
   "cell_type": "code",
   "execution_count": null,
   "metadata": {},
   "outputs": [],
   "source": []
  }
 ],
 "metadata": {
  "kernelspec": {
   "display_name": "Python 3",
   "language": "python",
   "name": "python3"
  },
  "language_info": {
   "codemirror_mode": {
    "name": "ipython",
    "version": 3
   },
   "file_extension": ".py",
   "mimetype": "text/x-python",
   "name": "python",
   "nbconvert_exporter": "python",
   "pygments_lexer": "ipython3",
   "version": "3.7.4"
  }
 },
 "nbformat": 4,
 "nbformat_minor": 4
}
