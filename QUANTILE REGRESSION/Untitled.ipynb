{
 "cells": [
  {
   "cell_type": "markdown",
   "metadata": {},
   "source": [
    "## **QUANTILE REGRESSION**"
   ]
  },
  {
   "cell_type": "code",
   "execution_count": null,
   "metadata": {},
   "outputs": [],
   "source": [
    "%matplotlib inline\n",
    "\n",
    "import pandas as pd\n",
    "import numpy as np\n",
    "import matplotlib.pyplot as plt\n",
    "from sklearn.linear_model import LinearRegression\n",
    "import statsmodels.api as sm\n",
    "import statsmodels.formula.api as smf\n"
   ]
  },
  {
   "cell_type": "code",
   "execution_count": null,
   "metadata": {},
   "outputs": [],
   "source": [
    "y = np.arange(1,25, 0.25)\n",
    "\n",
    "# linear relationship with contant variance of residual\n",
    "\n",
    "x1 = y.copy() + np.random.randn(96)"
   ]
  },
  {
   "cell_type": "code",
   "execution_count": null,
   "metadata": {},
   "outputs": [],
   "source": [
    "# non contant variance with residuals \n",
    "\n",
    "x2 = y.copy()\n",
    "y2 = x2 + np.concatenate((np.random.randn(20)*0.5,\n",
    "                                np.random.randn(20)*1, \n",
    "                                np.random.randn(20)*4, \n",
    "                               np.random.randn(20)*6, \n",
    "                               np.random.randn(16)*8), axis=0)"
   ]
  },
  {
   "cell_type": "code",
   "execution_count": null,
   "metadata": {},
   "outputs": [],
   "source": [
    "fig, (ax1,ax2) = plt.subplots(1,2 , figsize = (12,5.5) )\n",
    "\n",
    "ax1.plot(x1, y, 'o')\n",
    "ax1.set_xlabel('X1')\n",
    "ax1.set_ylabel('Y')\n",
    "ax1.set_title('Contant variance of residuals')\n",
    "\n",
    "ax2.plot(x2, y2, 'o')\n",
    "ax2.set_xlabel('X2')\n",
    "ax2.set_ylabel('Y')\n",
    "ax2.set_title('Non contant variance of residuals')\n",
    "\n",
    "fig.tight_layout()\n"
   ]
  },
  {
   "cell_type": "markdown",
   "metadata": {},
   "source": [
    "## **LINEAR REGRESSION**"
   ]
  },
  {
   "cell_type": "code",
   "execution_count": null,
   "metadata": {},
   "outputs": [],
   "source": [
    "lr = LinearRegression()\n",
    "lr.fit(x1.reshape(-1,1),y.reshape(-1,1))\n",
    "lr2 = LinearRegression()\n",
    "lr2.fit(x2.reshape(-1,1),y.reshape(-1,1))"
   ]
  },
  {
   "cell_type": "code",
   "execution_count": null,
   "metadata": {},
   "outputs": [],
   "source": [
    "\n",
    "fig, (ax1,ax2) = plt.subplots(1,2 , figsize = (12,5.5) )\n",
    "\n",
    "ax1.plot(x1, y, 'o')\n",
    "ax1.set_xlabel('X1')\n",
    "ax1.set_ylabel('Y')\n",
    "ax1.set_title('Contant variance of residuals')\n",
    "ax1.plot(x1, lr.predict(x1.reshape(-1,1)))\n",
    "\n",
    "ax2.plot(x2, y2, 'o')\n",
    "ax2.set_xlabel('X2')\n",
    "ax2.set_ylabel('Y')\n",
    "ax2.set_title('Non contant variance of residuals')\n",
    "ax2.plot(x2, lr2.predict(x2.reshape(-1,1)))\n",
    "\n",
    "fig.tight_layout()"
   ]
  },
  {
   "cell_type": "markdown",
   "metadata": {},
   "source": [
    "## **REFERENCES**\n",
    "\n",
    "* [5 Regression Loss Functions All Machine Learners Should Know](https://heartbeat.fritz.ai/5-regression-loss-functions-all-machine-learners-should-know-4fb140e9d4b0)\n",
    "* []()"
   ]
  },
  {
   "cell_type": "code",
   "execution_count": null,
   "metadata": {},
   "outputs": [],
   "source": []
  }
 ],
 "metadata": {
  "kernelspec": {
   "display_name": "Python 3",
   "language": "python",
   "name": "python3"
  },
  "language_info": {
   "codemirror_mode": {
    "name": "ipython",
    "version": 3
   },
   "file_extension": ".py",
   "mimetype": "text/x-python",
   "name": "python",
   "nbconvert_exporter": "python",
   "pygments_lexer": "ipython3",
   "version": "3.7.4"
  }
 },
 "nbformat": 4,
 "nbformat_minor": 4
}
