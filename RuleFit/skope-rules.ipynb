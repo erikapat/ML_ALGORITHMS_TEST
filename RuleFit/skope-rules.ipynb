{
 "cells": [
  {
   "cell_type": "code",
   "execution_count": null,
   "metadata": {},
   "outputs": [],
   "source": []
  },
  {
   "cell_type": "markdown",
   "metadata": {},
   "source": [
    "## **Skope rules**"
   ]
  },
  {
   "cell_type": "markdown",
   "metadata": {},
   "source": [
    "A very similar framework is skope-rules, a Python module that also extracts rules from ensembles. It differs in the way it learns the final rules: \n",
    "\n",
    "1. First, skope-rules remove low-performing rules, based on recall and precision thresholds. \n",
    "2. Then, duplicate and similar rules are removed by performing a selection based on the diversity of logical terms (variable + larger/smaller operator) and performance (F1-score) of the rules. \n",
    "\n",
    "This final step does not rely on using Lasso, but considers only the out-of-bag F1-score and the logical terms which form the rules."
   ]
  },
  {
   "cell_type": "markdown",
   "metadata": {},
   "source": [
    "## **Installation**\n",
    "\n",
    "Follow the instructions in https://github.com/scikit-learn-contrib/skope-rules"
   ]
  },
  {
   "cell_type": "code",
   "execution_count": 4,
   "metadata": {},
   "outputs": [
    {
     "name": "stdout",
     "output_type": "stream",
     "text": [
      "Collecting skope-rules\n",
      "\u001b[?25l  Downloading https://files.pythonhosted.org/packages/56/b0/b56fb8d186f35089a469dc788c32ac99cf0276eae567736325b179b71db0/skope-rules-1.0.0.tar.gz (2.0MB)\n",
      "\u001b[K     |████████████████████████████████| 2.0MB 2.2MB/s eta 0:00:01\n",
      "\u001b[?25hRequirement already satisfied: numpy>=1.10.4 in /home/erikapat/anaconda3/lib/python3.7/site-packages (from skope-rules) (1.17.1)\n",
      "Requirement already satisfied: scikit-learn>=0.17.1 in /home/erikapat/anaconda3/lib/python3.7/site-packages (from skope-rules) (0.21.3)\n",
      "Requirement already satisfied: scipy>=0.17.0 in /home/erikapat/anaconda3/lib/python3.7/site-packages (from skope-rules) (1.3.1)\n",
      "Requirement already satisfied: pandas>=0.18.1 in /home/erikapat/anaconda3/lib/python3.7/site-packages (from skope-rules) (0.25.1)\n",
      "Requirement already satisfied: joblib>=0.11 in /home/erikapat/anaconda3/lib/python3.7/site-packages (from scikit-learn>=0.17.1->skope-rules) (0.13.2)\n",
      "Requirement already satisfied: pytz>=2017.2 in /home/erikapat/anaconda3/lib/python3.7/site-packages (from pandas>=0.18.1->skope-rules) (2019.2)\n",
      "Requirement already satisfied: python-dateutil>=2.6.1 in /home/erikapat/anaconda3/lib/python3.7/site-packages (from pandas>=0.18.1->skope-rules) (2.8.0)\n",
      "Requirement already satisfied: six>=1.5 in /home/erikapat/anaconda3/lib/python3.7/site-packages (from python-dateutil>=2.6.1->pandas>=0.18.1->skope-rules) (1.12.0)\n",
      "Building wheels for collected packages: skope-rules\n",
      "  Building wheel for skope-rules (setup.py) ... \u001b[?25ldone\n",
      "\u001b[?25h  Created wheel for skope-rules: filename=skope_rules-1.0.0-cp37-none-any.whl size=14592 sha256=1cb1e6f1368dbf88be180810cbba4aac6d58d8185ac6a49b7a028861d6c94385\n",
      "  Stored in directory: /home/erikapat/.cache/pip/wheels/3e/8d/56/464f328ff3200c785626967ee39a6b2efc455469dab615f03e\n",
      "Successfully built skope-rules\n",
      "Installing collected packages: skope-rules\n",
      "Successfully installed skope-rules-1.0.0\n",
      "Note: you may need to restart the kernel to use updated packages.\n"
     ]
    }
   ],
   "source": [
    "#pip install skope-rules"
   ]
  },
  {
   "cell_type": "code",
   "execution_count": 5,
   "metadata": {},
   "outputs": [
    {
     "name": "stderr",
     "output_type": "stream",
     "text": [
      "/home/erikapat/anaconda3/lib/python3.7/site-packages/sklearn/externals/six.py:31: DeprecationWarning: The module is deprecated in version 0.21 and will be removed in version 0.23 since we've dropped support for Python 2.7. Please rely on the official version of six (https://pypi.org/project/six/).\n",
      "  \"(https://pypi.org/project/six/).\", DeprecationWarning)\n"
     ]
    },
    {
     "name": "stdout",
     "output_type": "stream",
     "text": [
      "Rules for iris setosa\n",
      "('petal_length <= 2.449999988079071', (1.0, 1.0, 25))\n",
      "('petal_width <= 0.75', (1.0, 1.0, 7))\n",
      "\n",
      "====================\n",
      "\n",
      "Rules for iris versicolor\n",
      "('petal_length <= 5.450000047683716 and petal_width <= 1.6500000357627869 and petal_width > 0.800000011920929', (0.9545454545454546, 1.0, 1))\n",
      "('petal_length > 2.449999988079071 and petal_width <= 1.75 and sepal_length <= 7.099999904632568', (0.9199363732767762, 0.975551580202743, 2))\n",
      "('petal_length <= 4.8500001430511475 and petal_length > 2.449999988079071 and sepal_length > 4.950000047683716', (0.9590840840840841, 0.8862179487179487, 2))\n",
      "\n",
      "====================\n",
      "\n",
      "Rules for iris virginica\n",
      "('petal_length > 4.75 and petal_width > 1.75', (0.9736659736659736, 0.9134146341463415, 2))\n",
      "('petal_width > 1.75', (0.9810350598276295, 0.8997915811596355, 7))\n",
      "('petal_length > 5.049999952316284', (0.9717806041335453, 0.8210436755530346, 2))\n",
      "\n",
      "====================\n",
      "\n"
     ]
    }
   ],
   "source": [
    "from sklearn.datasets import load_iris\n",
    "from skrules import SkopeRules\n",
    "\n",
    "dataset = load_iris()\n",
    "feature_names = ['sepal_length', 'sepal_width', 'petal_length', 'petal_width']\n",
    "clf = SkopeRules(max_depth_duplication=2,\n",
    "                 n_estimators=30,\n",
    "                 precision_min=0.3,\n",
    "                 recall_min=0.1,\n",
    "                 feature_names=feature_names)\n",
    "\n",
    "for idx, species in enumerate(dataset.target_names):\n",
    "    X, y = dataset.data, dataset.target\n",
    "    clf.fit(X, y == idx)\n",
    "    rules = clf.rules_[0:3]\n",
    "    print(\"Rules for iris\", species)\n",
    "    for rule in rules:\n",
    "        print(rule)\n",
    "    print()\n",
    "    print(20*'=')\n",
    "    print()"
   ]
  },
  {
   "cell_type": "code",
   "execution_count": 7,
   "metadata": {},
   "outputs": [
    {
     "data": {
      "image/png": "[encoded data removed]",
      "text/plain": [
       "<Figure size 432x288 with 1 Axes>"
      ]
     },
     "metadata": {
      "needs_background": "light"
     },
     "output_type": "display_data"
    }
   ],
   "source": [
    "from sklearn.datasets import load_boston\n",
    "from sklearn.metrics import precision_recall_curve\n",
    "from matplotlib import pyplot as plt\n",
    "from skrules import SkopeRules\n",
    "\n",
    "dataset = load_boston()\n",
    "clf = SkopeRules(max_depth_duplication=None,\n",
    "                 n_estimators=30,\n",
    "                 precision_min=0.2,\n",
    "                 recall_min=0.01,\n",
    "                 feature_names=dataset.feature_names)\n",
    "\n",
    "X, y = dataset.data, dataset.target > 25\n",
    "X_train, y_train = X[:len(y)//2], y[:len(y)//2]\n",
    "X_test, y_test = X[len(y)//2:], y[len(y)//2:]\n",
    "clf.fit(X_train, y_train)\n",
    "y_score = clf.score_top_rules(X_test) # Get a risk score for each test example\n",
    "precision, recall, _ = precision_recall_curve(y_test, y_score)\n",
    "plt.plot(recall, precision)\n",
    "plt.xlabel('Recall')\n",
    "plt.ylabel('Precision')\n",
    "plt.title('Precision Recall curve')\n",
    "plt.show()"
   ]
  },
  {
   "cell_type": "code",
   "execution_count": null,
   "metadata": {},
   "outputs": [],
   "source": []
  }
 ],
 "metadata": {
  "kernelspec": {
   "display_name": "Python 3",
   "language": "python",
   "name": "python3"
  },
  "language_info": {
   "codemirror_mode": {
    "name": "ipython",
    "version": 3
   },
   "file_extension": ".py",
   "mimetype": "text/x-python",
   "name": "python",
   "nbconvert_exporter": "python",
   "pygments_lexer": "ipython3",
   "version": "3.7.4"
  }
 },
 "nbformat": 4,
 "nbformat_minor": 4
}
