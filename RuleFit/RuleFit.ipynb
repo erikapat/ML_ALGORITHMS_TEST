{
 "cells": [
  {
   "cell_type": "code",
   "execution_count": 1,
   "metadata": {},
   "outputs": [],
   "source": [
    "#import warnings\n",
    "#warnings.simplefilter('ignore')"
   ]
  },
  {
   "cell_type": "markdown",
   "metadata": {},
   "source": [
    "## **RULE FIT**"
   ]
  },
  {
   "cell_type": "markdown",
   "metadata": {},
   "source": [
    "* The linear regression model does not account for interactions between features, this method arise as a convenient methodoly, easy and interpretable that also integrates feature interactions\n",
    "*  RuleFit automatically generates these features from decision trees. Each path through a tree can be transformed into a decision rule by combining the split decisions into a rule.\n",
    "* The RuleFit algorithm is implemented in R by Fokkema and Christoffersen (2017) and you can find a Python version on Github: https://github.com/christophM/rulefit.\n",
    "\n",
    "\n",
    "## **Definition**\n",
    "\n",
    "The principal idea of RuleFit is to train a series of diverse Decision Trees, extract all single decision rules from the trees into a matrix of binary dummy variables and run a (penalized) Linear Regression between the explained variable and the original features combined with the dummy matrix.\n",
    "\n",
    "## **STEPS**\n",
    "\n",
    "The algorithm is a multi-step process:\n",
    "\n",
    "1. Generate a tree ensemble using gradient boosting\n",
    "2. Use the trees to form rules, with each decision path in a tree forming one rule.\n",
    "3. Prune the rules and the original input features using L1-regularised regression (LASSO)"
   ]
  },
  {
   "cell_type": "markdown",
   "metadata": {},
   "source": [
    "## **Install package**"
   ]
  },
  {
   "cell_type": "code",
   "execution_count": 2,
   "metadata": {},
   "outputs": [],
   "source": [
    "#!pip install git+git://github.com/christophM/rulefit.git"
   ]
  },
  {
   "cell_type": "markdown",
   "metadata": {},
   "source": [
    "## **LOAD DATA**\n",
    "\n",
    "Data from: https://www.kaggle.com/puxama/bostoncsv"
   ]
  },
  {
   "cell_type": "code",
   "execution_count": 3,
   "metadata": {},
   "outputs": [],
   "source": [
    "import numpy as np\n",
    "import pandas as pd\n",
    "from rulefit import RuleFit\n",
    "\n",
    "boston_data = pd.read_csv(\"data/Boston.csv\", index_col=0)"
   ]
  },
  {
   "cell_type": "code",
   "execution_count": 4,
   "metadata": {},
   "outputs": [
    {
     "data": {
      "text/html": [
       "<div>\n",
       "<style scoped>\n",
       "    .dataframe tbody tr th:only-of-type {\n",
       "        vertical-align: middle;\n",
       "    }\n",
       "\n",
       "    .dataframe tbody tr th {\n",
       "        vertical-align: top;\n",
       "    }\n",
       "\n",
       "    .dataframe thead th {\n",
       "        text-align: right;\n",
       "    }\n",
       "</style>\n",
       "<table border=\"1\" class=\"dataframe\">\n",
       "  <thead>\n",
       "    <tr style=\"text-align: right;\">\n",
       "      <th></th>\n",
       "      <th>crim</th>\n",
       "      <th>zn</th>\n",
       "      <th>indus</th>\n",
       "      <th>chas</th>\n",
       "      <th>nox</th>\n",
       "      <th>rm</th>\n",
       "      <th>age</th>\n",
       "      <th>dis</th>\n",
       "      <th>rad</th>\n",
       "      <th>tax</th>\n",
       "      <th>ptratio</th>\n",
       "      <th>black</th>\n",
       "      <th>lstat</th>\n",
       "      <th>medv</th>\n",
       "    </tr>\n",
       "  </thead>\n",
       "  <tbody>\n",
       "    <tr>\n",
       "      <td>1</td>\n",
       "      <td>0.00632</td>\n",
       "      <td>18.0</td>\n",
       "      <td>2.31</td>\n",
       "      <td>0</td>\n",
       "      <td>0.538</td>\n",
       "      <td>6.575</td>\n",
       "      <td>65.2</td>\n",
       "      <td>4.0900</td>\n",
       "      <td>1</td>\n",
       "      <td>296</td>\n",
       "      <td>15.3</td>\n",
       "      <td>396.90</td>\n",
       "      <td>4.98</td>\n",
       "      <td>24.0</td>\n",
       "    </tr>\n",
       "    <tr>\n",
       "      <td>2</td>\n",
       "      <td>0.02731</td>\n",
       "      <td>0.0</td>\n",
       "      <td>7.07</td>\n",
       "      <td>0</td>\n",
       "      <td>0.469</td>\n",
       "      <td>6.421</td>\n",
       "      <td>78.9</td>\n",
       "      <td>4.9671</td>\n",
       "      <td>2</td>\n",
       "      <td>242</td>\n",
       "      <td>17.8</td>\n",
       "      <td>396.90</td>\n",
       "      <td>9.14</td>\n",
       "      <td>21.6</td>\n",
       "    </tr>\n",
       "    <tr>\n",
       "      <td>3</td>\n",
       "      <td>0.02729</td>\n",
       "      <td>0.0</td>\n",
       "      <td>7.07</td>\n",
       "      <td>0</td>\n",
       "      <td>0.469</td>\n",
       "      <td>7.185</td>\n",
       "      <td>61.1</td>\n",
       "      <td>4.9671</td>\n",
       "      <td>2</td>\n",
       "      <td>242</td>\n",
       "      <td>17.8</td>\n",
       "      <td>392.83</td>\n",
       "      <td>4.03</td>\n",
       "      <td>34.7</td>\n",
       "    </tr>\n",
       "    <tr>\n",
       "      <td>4</td>\n",
       "      <td>0.03237</td>\n",
       "      <td>0.0</td>\n",
       "      <td>2.18</td>\n",
       "      <td>0</td>\n",
       "      <td>0.458</td>\n",
       "      <td>6.998</td>\n",
       "      <td>45.8</td>\n",
       "      <td>6.0622</td>\n",
       "      <td>3</td>\n",
       "      <td>222</td>\n",
       "      <td>18.7</td>\n",
       "      <td>394.63</td>\n",
       "      <td>2.94</td>\n",
       "      <td>33.4</td>\n",
       "    </tr>\n",
       "    <tr>\n",
       "      <td>5</td>\n",
       "      <td>0.06905</td>\n",
       "      <td>0.0</td>\n",
       "      <td>2.18</td>\n",
       "      <td>0</td>\n",
       "      <td>0.458</td>\n",
       "      <td>7.147</td>\n",
       "      <td>54.2</td>\n",
       "      <td>6.0622</td>\n",
       "      <td>3</td>\n",
       "      <td>222</td>\n",
       "      <td>18.7</td>\n",
       "      <td>396.90</td>\n",
       "      <td>5.33</td>\n",
       "      <td>36.2</td>\n",
       "    </tr>\n",
       "  </tbody>\n",
       "</table>\n",
       "</div>"
      ],
      "text/plain": [
       "      crim    zn  indus  chas    nox     rm   age     dis  rad  tax  ptratio  \\\n",
       "1  0.00632  18.0   2.31     0  0.538  6.575  65.2  4.0900    1  296     15.3   \n",
       "2  0.02731   0.0   7.07     0  0.469  6.421  78.9  4.9671    2  242     17.8   \n",
       "3  0.02729   0.0   7.07     0  0.469  7.185  61.1  4.9671    2  242     17.8   \n",
       "4  0.03237   0.0   2.18     0  0.458  6.998  45.8  6.0622    3  222     18.7   \n",
       "5  0.06905   0.0   2.18     0  0.458  7.147  54.2  6.0622    3  222     18.7   \n",
       "\n",
       "    black  lstat  medv  \n",
       "1  396.90   4.98  24.0  \n",
       "2  396.90   9.14  21.6  \n",
       "3  392.83   4.03  34.7  \n",
       "4  394.63   2.94  33.4  \n",
       "5  396.90   5.33  36.2  "
      ]
     },
     "execution_count": 4,
     "metadata": {},
     "output_type": "execute_result"
    }
   ],
   "source": [
    "boston_data.head()"
   ]
  },
  {
   "cell_type": "code",
   "execution_count": 5,
   "metadata": {},
   "outputs": [
    {
     "name": "stderr",
     "output_type": "stream",
     "text": [
      "/home/erikapat/anaconda3/lib/python3.7/site-packages/sklearn/linear_model/coordinate_descent.py:475: ConvergenceWarning: Objective did not converge. You might want to increase the number of iterations. Duality gap: 4.323481276176864, tolerance: 3.419845810089021\n",
      "  positive)\n",
      "/home/erikapat/anaconda3/lib/python3.7/site-packages/sklearn/linear_model/coordinate_descent.py:475: ConvergenceWarning: Objective did not converge. You might want to increase the number of iterations. Duality gap: 185.387186597452, tolerance: 4.2716295415019765\n",
      "  positive)\n"
     ]
    },
    {
     "data": {
      "text/plain": [
       "RuleFit(Cs=None, cv=3, exp_rand_tree_size=True, lin_standardise=True,\n",
       "        lin_trim_quantile=0.025, max_rules=2000, memory_par=0.01,\n",
       "        model_type='rl', random_state=None, rfmode='regress',\n",
       "        sample_fract='default',\n",
       "        tree_generator=GradientBoostingRegressor(alpha=0.9,\n",
       "                                                 criterion='friedman_mse',\n",
       "                                                 init=None, learning_rate=0.01,\n",
       "                                                 loss='ls', max_depth=100,\n",
       "                                                 max_features=None,\n",
       "                                                 max_leaf_nodes=4,\n",
       "                                                 min_impurity_decrease=0.0,\n",
       "                                                 min_impurity_split=None,\n",
       "                                                 min_samples_leaf=1,\n",
       "                                                 min_samples_split=2,\n",
       "                                                 min_weight_fraction_leaf=0.0,\n",
       "                                                 n_estimators=575,\n",
       "                                                 n_iter_no_change=None,\n",
       "                                                 presort='auto',\n",
       "                                                 random_state=574,\n",
       "                                                 subsample=0.46436099318265595,\n",
       "                                                 tol=0.0001,\n",
       "                                                 validation_fraction=0.1,\n",
       "                                                 verbose=0, warm_start=False),\n",
       "        tree_size=4)"
      ]
     },
     "execution_count": 5,
     "metadata": {},
     "output_type": "execute_result"
    }
   ],
   "source": [
    "y = boston_data.medv.values\n",
    "X = boston_data.drop(\"medv\", axis=1)\n",
    "features = X.columns\n",
    "X = X.values\n",
    "\n",
    "rf = RuleFit()\n",
    "rf.fit(X, y, feature_names=features)"
   ]
  },
  {
   "cell_type": "markdown",
   "metadata": {},
   "source": [
    "## **Predict**"
   ]
  },
  {
   "cell_type": "code",
   "execution_count": 6,
   "metadata": {},
   "outputs": [],
   "source": [
    "PRED = rf.predict(X)"
   ]
  },
  {
   "cell_type": "markdown",
   "metadata": {},
   "source": [
    "## **INTERPRETATION**\n",
    "\n",
    "RuleFit is a linear model so the interpretation is the same as for regular linear models. The only difference is that the model has new features derived from decision rules. So, there are to types of rules: binary and linear\n",
    "* **Binary rules**: (named rule) A value of 1 means that all conditions of the rule are met, otherwise the value is 0. \n",
    "* **Linear rules**: (names linear) the interpretation is the same as in linear regression models: If the feature increases by one unit, the predicted outcome changes by the corresponding feature weight."
   ]
  },
  {
   "cell_type": "markdown",
   "metadata": {},
   "source": [
    "## EXAMPLE \n",
    "There are 215 iteractions between lineal and binary rules that were created from the original feaures. If we apply lasso we can decrease tnumber of rules.\n",
    "\n",
    "The most important binary rule was: rm <= 8.157999992370605 & dis > 1.1716500520706177 with a weight of -1.935740e+00. So, given this rule the variable medv decrease in a abs value of 1.935740e+00 , when all other feature values remain fixed."
   ]
  },
  {
   "cell_type": "code",
   "execution_count": 7,
   "metadata": {},
   "outputs": [],
   "source": [
    "## **INSPECT RESULTS**\n",
    "pd.set_option('display.max_rows', 500)\n",
    "pd.set_option('display.max_columns', None)  # or 1000\n",
    "pd.set_option('display.max_colwidth', -1)  # or 199\n",
    "rules = rf.get_rules()\n",
    "rules = rules[rules.coef != 0].sort_values(\"support\", ascending=False)"
   ]
  },
  {
   "cell_type": "code",
   "execution_count": 8,
   "metadata": {},
   "outputs": [
    {
     "name": "stdout",
     "output_type": "stream",
     "text": [
      "<class 'pandas.core.frame.DataFrame'>\n"
     ]
    }
   ],
   "source": [
    "print(type(rules))"
   ]
  },
  {
   "cell_type": "code",
   "execution_count": 9,
   "metadata": {},
   "outputs": [
    {
     "data": {
      "text/html": [
       "<div>\n",
       "<style scoped>\n",
       "    .dataframe tbody tr th:only-of-type {\n",
       "        vertical-align: middle;\n",
       "    }\n",
       "\n",
       "    .dataframe tbody tr th {\n",
       "        vertical-align: top;\n",
       "    }\n",
       "\n",
       "    .dataframe thead th {\n",
       "        text-align: right;\n",
       "    }\n",
       "</style>\n",
       "<table border=\"1\" class=\"dataframe\">\n",
       "  <thead>\n",
       "    <tr style=\"text-align: right;\">\n",
       "      <th></th>\n",
       "      <th>rule</th>\n",
       "      <th>type</th>\n",
       "      <th>coef</th>\n",
       "      <th>support</th>\n",
       "      <th>importance</th>\n",
       "    </tr>\n",
       "  </thead>\n",
       "  <tbody>\n",
       "    <tr>\n",
       "      <td>1</td>\n",
       "      <td>zn</td>\n",
       "      <td>linear</td>\n",
       "      <td>0.010859</td>\n",
       "      <td>1.000000</td>\n",
       "      <td>0.245109</td>\n",
       "    </tr>\n",
       "    <tr>\n",
       "      <td>11</td>\n",
       "      <td>black</td>\n",
       "      <td>linear</td>\n",
       "      <td>-0.007337</td>\n",
       "      <td>1.000000</td>\n",
       "      <td>0.659214</td>\n",
       "    </tr>\n",
       "    <tr>\n",
       "      <td>6</td>\n",
       "      <td>age</td>\n",
       "      <td>linear</td>\n",
       "      <td>-0.032589</td>\n",
       "      <td>1.000000</td>\n",
       "      <td>0.911510</td>\n",
       "    </tr>\n",
       "    <tr>\n",
       "      <td>1312</td>\n",
       "      <td>lstat &lt;= 28.684999465942383</td>\n",
       "      <td>rule</td>\n",
       "      <td>0.301599</td>\n",
       "      <td>0.948718</td>\n",
       "      <td>0.066524</td>\n",
       "    </tr>\n",
       "    <tr>\n",
       "      <td>321</td>\n",
       "      <td>rm &lt;= 8.752500057220459 &amp; tax &lt;= 688.5 &amp; ptratio &gt; 14.549999713897705</td>\n",
       "      <td>rule</td>\n",
       "      <td>0.262999</td>\n",
       "      <td>0.944444</td>\n",
       "      <td>0.060243</td>\n",
       "    </tr>\n",
       "  </tbody>\n",
       "</table>\n",
       "</div>"
      ],
      "text/plain": [
       "                                                                       rule  \\\n",
       "1     zn                                                                      \n",
       "11    black                                                                   \n",
       "6     age                                                                     \n",
       "1312  lstat <= 28.684999465942383                                             \n",
       "321   rm <= 8.752500057220459 & tax <= 688.5 & ptratio > 14.549999713897705   \n",
       "\n",
       "        type      coef   support  importance  \n",
       "1     linear  0.010859  1.000000  0.245109    \n",
       "11    linear -0.007337  1.000000  0.659214    \n",
       "6     linear -0.032589  1.000000  0.911510    \n",
       "1312  rule    0.301599  0.948718  0.066524    \n",
       "321   rule    0.262999  0.944444  0.060243    "
      ]
     },
     "execution_count": 9,
     "metadata": {},
     "output_type": "execute_result"
    }
   ],
   "source": [
    "rules.head()"
   ]
  },
  {
   "cell_type": "code",
   "execution_count": null,
   "metadata": {},
   "outputs": [],
   "source": []
  },
  {
   "cell_type": "markdown",
   "metadata": {},
   "source": [
    "## **Cabify experiment**"
   ]
  },
  {
   "cell_type": "code",
   "execution_count": 10,
   "metadata": {},
   "outputs": [],
   "source": [
    "from pyspark import SparkContext\n",
    "from pyspark.sql import SQLContext\n",
    "import os\n",
    "\n",
    "APP_NAME = 'pyspark_python'\n",
    "MASTER = 'local[*]'\n",
    "\n",
    "sc = SparkContext('local', 'Spark SQL')\n",
    "sqlc = SQLContext(sc)\n",
    "\n",
    "path = os.getcwd()\n",
    "file = (f'{path}/data/intervals_challenge.json')"
   ]
  },
  {
   "cell_type": "markdown",
   "metadata": {},
   "source": [
    "## **Data description**\n",
    "\n",
    "* **type**: can be going_to_pickup, waiting_for_rider or driving_to_destination\n",
    "* **trip_id**: uniquely identifies the trip\n",
    "* **duration**: how long the interval last, **in seconds**\n",
    "* **distance**: how far the vehicle moved in this interval, **in meters**\n",
    "* **city_id**: either bravos, pentos and volantis\n",
    "* **started_at**: when the interval started, UTC Time\n",
    "* **vehicle_id**: uniquely identifies the vehicle\n",
    "* **rider_id:** uniquely identifies the rider"
   ]
  },
  {
   "cell_type": "code",
   "execution_count": 11,
   "metadata": {},
   "outputs": [
    {
     "name": "stdout",
     "output_type": "stream",
     "text": [
      "+--------+--------+----------------+--------------------+--------------------+--------+--------------------+\n",
      "|duration|distance|      started_at|             trip_id|          vehicle_id| city_id|                type|\n",
      "+--------+--------+----------------+--------------------+--------------------+--------+--------------------+\n",
      "|     857|    5384|1.475499600287E9|c00cee6963e0dc66e...|52d38cf1a3240d5cb...|  pentos|driving_to_destin...|\n",
      "|     245|    1248|1.475499600853E9|427425e1f4318ca24...|8336b28f24c3e7a1e...|volantis|     going_to_pickup|\n",
      "|    1249|    5847| 1.47549960167E9|757867f6d7c00ef92...|8885c59374cc53916...|  pentos|driving_to_destin...|\n",
      "|     471|    2585|1.475499601841E9|d09d1301d361f7359...|81b63920454f70b67...|  bravos|     going_to_pickup|\n",
      "|     182|     743| 1.47549960197E9|00f20a701f0ec2519...|b73030977cbad61c9...|  pentos|     going_to_pickup|\n",
      "|     599|    1351|1.475499602154E9|158e7bc8d42e1d8c9...|126e868fb282852c2...|volantis|     going_to_pickup|\n",
      "|     529|    3297|1.475499603115E9|c15f71a8fd52740bc...|355d17be3dbb76270...|volantis|driving_to_destin...|\n",
      "|    1042|    7122|1.475499603922E9|c6ce058a0bbac407f...|954c713a1319ee162...|  pentos|driving_to_destin...|\n",
      "|     157|       3|1.475499605443E9|5dd3c4847411305d5...|53de469711d42b6cd...|volantis|   waiting_for_rider|\n",
      "|    1525|    2674|1.475499605637E9|d3e6e8fb50c02d66f...|b0906e917dc5cc0bc...|  bravos|     going_to_pickup|\n",
      "|     741|    3172|1.475499606029E9|8a41774bc50386b55...|ba913d2ede8f27111...|volantis|driving_to_destin...|\n",
      "|     291|     683|1.475499606209E9|a1ea9187c75d05ad0...|d515623145835dc3c...|  pentos|     going_to_pickup|\n",
      "|    1812|    2265|1.475499606487E9|2ce68ad3b45a42a8a...|3bddc9e3772cd8daa...|volantis|     going_to_pickup|\n",
      "|       5|       2|1.475499606795E9|21cc5786bedbb774e...|5cebbc7173262d385...|  pentos|   waiting_for_rider|\n",
      "|     295|    1223|1.475499607334E9|3c2ad0ccd9336726b...|ad1e3e5a9984ea86b...|volantis|driving_to_destin...|\n",
      "|       5|       0|1.475499608097E9|b3de56d9e0541650e...|4479f1258a2a7b3f6...|  pentos|   waiting_for_rider|\n",
      "|     193|      14|1.475499610824E9|f28a0a278c5bf8ff6...|55da28d975f8c9509...|volantis|   waiting_for_rider|\n",
      "|     551|     898|1.475499611338E9|eb5fe9db9dc4b876b...|ddbc2c169ace26ada...|volantis|driving_to_destin...|\n",
      "|     356|    2143|1.475499611622E9|36abc69ef02262a74...|642e84ebdfddfa73a...|  pentos|     going_to_pickup|\n",
      "|    2225|   11965| 1.47549961179E9|21cc5786bedbb774e...|5cebbc7173262d385...|  pentos|driving_to_destin...|\n",
      "+--------+--------+----------------+--------------------+--------------------+--------+--------------------+\n",
      "only showing top 20 rows\n",
      "\n"
     ]
    }
   ],
   "source": [
    "# LOAD DATA -> WE USE SPARK, BECAUSE IS EASY AND FAST.\n",
    "df = sqlc.read.json(file)\n",
    "# this creates a view of the json dataset\n",
    "df.createOrReplaceTempView(\"json_view\")\n",
    "# issue the SQL query to select only the 'text' field\n",
    "dataset = sqlc.sql(\"select duration, distance, started_at, trip_id, vehicle_id, city_id, type from json_view\")\n",
    "# show some output\n",
    "dataset.show()"
   ]
  },
  {
   "cell_type": "code",
   "execution_count": 12,
   "metadata": {},
   "outputs": [
    {
     "name": "stdout",
     "output_type": "stream",
     "text": [
      "(165170, 7)\n"
     ]
    },
    {
     "data": {
      "text/html": [
       "<div>\n",
       "<style scoped>\n",
       "    .dataframe tbody tr th:only-of-type {\n",
       "        vertical-align: middle;\n",
       "    }\n",
       "\n",
       "    .dataframe tbody tr th {\n",
       "        vertical-align: top;\n",
       "    }\n",
       "\n",
       "    .dataframe thead th {\n",
       "        text-align: right;\n",
       "    }\n",
       "</style>\n",
       "<table border=\"1\" class=\"dataframe\">\n",
       "  <thead>\n",
       "    <tr style=\"text-align: right;\">\n",
       "      <th></th>\n",
       "      <th>duration</th>\n",
       "      <th>distance</th>\n",
       "      <th>started_at</th>\n",
       "      <th>trip_id</th>\n",
       "      <th>vehicle_id</th>\n",
       "      <th>city_id</th>\n",
       "      <th>type</th>\n",
       "    </tr>\n",
       "  </thead>\n",
       "  <tbody>\n",
       "    <tr>\n",
       "      <td>0</td>\n",
       "      <td>857</td>\n",
       "      <td>5384</td>\n",
       "      <td>1.475500e+09</td>\n",
       "      <td>c00cee6963e0dc66e50e271239426914</td>\n",
       "      <td>52d38cf1a3240d5cbdcf730f2d9a47d6</td>\n",
       "      <td>pentos</td>\n",
       "      <td>driving_to_destination</td>\n",
       "    </tr>\n",
       "    <tr>\n",
       "      <td>1</td>\n",
       "      <td>245</td>\n",
       "      <td>1248</td>\n",
       "      <td>1.475500e+09</td>\n",
       "      <td>427425e1f4318ca2461168bdd6e4fcbd</td>\n",
       "      <td>8336b28f24c3e7a1e3d582073b164895</td>\n",
       "      <td>volantis</td>\n",
       "      <td>going_to_pickup</td>\n",
       "    </tr>\n",
       "    <tr>\n",
       "      <td>2</td>\n",
       "      <td>1249</td>\n",
       "      <td>5847</td>\n",
       "      <td>1.475500e+09</td>\n",
       "      <td>757867f6d7c00ef92a65bfaa3895943f</td>\n",
       "      <td>8885c59374cc539163e83f01ed59fd16</td>\n",
       "      <td>pentos</td>\n",
       "      <td>driving_to_destination</td>\n",
       "    </tr>\n",
       "    <tr>\n",
       "      <td>3</td>\n",
       "      <td>471</td>\n",
       "      <td>2585</td>\n",
       "      <td>1.475500e+09</td>\n",
       "      <td>d09d1301d361f7359d0d936557d10f89</td>\n",
       "      <td>81b63920454f70b6755a494e3b28b3a7</td>\n",
       "      <td>bravos</td>\n",
       "      <td>going_to_pickup</td>\n",
       "    </tr>\n",
       "    <tr>\n",
       "      <td>4</td>\n",
       "      <td>182</td>\n",
       "      <td>743</td>\n",
       "      <td>1.475500e+09</td>\n",
       "      <td>00f20a701f0ec2519353ef3ffaf75068</td>\n",
       "      <td>b73030977cbad61c9db55418909864fa</td>\n",
       "      <td>pentos</td>\n",
       "      <td>going_to_pickup</td>\n",
       "    </tr>\n",
       "  </tbody>\n",
       "</table>\n",
       "</div>"
      ],
      "text/plain": [
       "  duration distance    started_at                           trip_id  \\\n",
       "0  857      5384     1.475500e+09  c00cee6963e0dc66e50e271239426914   \n",
       "1  245      1248     1.475500e+09  427425e1f4318ca2461168bdd6e4fcbd   \n",
       "2  1249     5847     1.475500e+09  757867f6d7c00ef92a65bfaa3895943f   \n",
       "3  471      2585     1.475500e+09  d09d1301d361f7359d0d936557d10f89   \n",
       "4  182      743      1.475500e+09  00f20a701f0ec2519353ef3ffaf75068   \n",
       "\n",
       "                         vehicle_id   city_id                    type  \n",
       "0  52d38cf1a3240d5cbdcf730f2d9a47d6  pentos    driving_to_destination  \n",
       "1  8336b28f24c3e7a1e3d582073b164895  volantis  going_to_pickup         \n",
       "2  8885c59374cc539163e83f01ed59fd16  pentos    driving_to_destination  \n",
       "3  81b63920454f70b6755a494e3b28b3a7  bravos    going_to_pickup         \n",
       "4  b73030977cbad61c9db55418909864fa  pentos    going_to_pickup         "
      ]
     },
     "execution_count": 12,
     "metadata": {},
     "output_type": "execute_result"
    }
   ],
   "source": [
    "#transform to pandas\n",
    "print(dataset.toPandas().shape)\n",
    "dataset = dataset.toPandas()\n",
    "dataset.head()"
   ]
  },
  {
   "cell_type": "markdown",
   "metadata": {},
   "source": [
    "## **CHANGE TYPES**"
   ]
  },
  {
   "cell_type": "code",
   "execution_count": 13,
   "metadata": {},
   "outputs": [],
   "source": [
    "# change the last variables created to continuous\n",
    "col = ['duration', 'distance', 'started_at']\n",
    "dataset[col] = dataset[col].apply(pd.to_numeric, downcast='float', errors = 'coerce')"
   ]
  },
  {
   "cell_type": "code",
   "execution_count": 14,
   "metadata": {},
   "outputs": [
    {
     "data": {
      "text/plain": [
       "duration      float32\n",
       "distance      float32\n",
       "started_at    float32\n",
       "trip_id       object \n",
       "vehicle_id    object \n",
       "city_id       object \n",
       "type          object \n",
       "dtype: object"
      ]
     },
     "execution_count": 14,
     "metadata": {},
     "output_type": "execute_result"
    }
   ],
   "source": [
    "dataset.dtypes"
   ]
  },
  {
   "cell_type": "code",
   "execution_count": 15,
   "metadata": {},
   "outputs": [],
   "source": [
    "#dropnas\n",
    "dataset = dataset.dropna()"
   ]
  },
  {
   "cell_type": "code",
   "execution_count": 16,
   "metadata": {},
   "outputs": [],
   "source": [
    "#pd.Timestamp(dataset.started_at, unit='s')\n",
    "dataset['started_at_date'] = pd.to_datetime(dataset['started_at'], unit='s')\n",
    "dataset['Month'] = dataset['started_at_date'].dt.month\n",
    "dataset['year'] = dataset['started_at_date'].dt.year\n",
    "dataset['day'] = dataset['started_at_date'].dt.day\n",
    "dataset['hour'] = dataset['started_at_date'].dt.hour\n",
    "dataset['time_of_day'] = np.where(dataset.hour < 24 , 'night', 'evening')\n",
    "dataset['time_of_day'] = np.where(dataset.hour < 20 , 'evening', dataset['time_of_day'])\n",
    "dataset['time_of_day'] = np.where(dataset.hour < 16 , 'afternoon', dataset['time_of_day'])\n",
    "dataset['time_of_day'] = np.where(dataset.hour < 12 , 'morning', dataset['time_of_day'] )\n",
    "dataset['time_of_day'] = np.where(dataset.hour < 6 , 'early morning', dataset['time_of_day'] )"
   ]
  },
  {
   "cell_type": "markdown",
   "metadata": {},
   "source": [
    "## **EXPERIMENT DESIGN**\n",
    "\n",
    "The designed expirement is very simple. For a period of 5 days, all trips in 3 cities (Bravos, Pentos and Volantis) have been randomly assigned using linear or road distance:\n",
    "\n",
    "* Trips whose trip_id starts with digits 0-8 were assigned using road distance\n",
    "* Trips whose trip_id starts with digits 9-f were assigned using linear distance"
   ]
  },
  {
   "cell_type": "code",
   "execution_count": 17,
   "metadata": {},
   "outputs": [],
   "source": [
    "# indicate the type of experiment\n",
    "dataset['trip_id_exp'] = dataset['trip_id'].str[:1]\n",
    "values = ['0', '1', '2', '3', '4', '5', '6', '7', '8']\n",
    "dataset['trip_id_exp'] = np.where(dataset.trip_id_exp.isin(values), 'road', 'linear')"
   ]
  },
  {
   "cell_type": "code",
   "execution_count": 18,
   "metadata": {},
   "outputs": [
    {
     "data": {
      "text/html": [
       "<div>\n",
       "<style scoped>\n",
       "    .dataframe tbody tr th:only-of-type {\n",
       "        vertical-align: middle;\n",
       "    }\n",
       "\n",
       "    .dataframe tbody tr th {\n",
       "        vertical-align: top;\n",
       "    }\n",
       "\n",
       "    .dataframe thead th {\n",
       "        text-align: right;\n",
       "    }\n",
       "</style>\n",
       "<table border=\"1\" class=\"dataframe\">\n",
       "  <thead>\n",
       "    <tr style=\"text-align: right;\">\n",
       "      <th></th>\n",
       "      <th>duration</th>\n",
       "      <th>distance</th>\n",
       "      <th>started_at</th>\n",
       "      <th>trip_id</th>\n",
       "      <th>vehicle_id</th>\n",
       "      <th>city_id</th>\n",
       "      <th>type</th>\n",
       "      <th>started_at_date</th>\n",
       "      <th>Month</th>\n",
       "      <th>year</th>\n",
       "      <th>day</th>\n",
       "      <th>hour</th>\n",
       "      <th>time_of_day</th>\n",
       "      <th>trip_id_exp</th>\n",
       "    </tr>\n",
       "  </thead>\n",
       "  <tbody>\n",
       "    <tr>\n",
       "      <td>0</td>\n",
       "      <td>857.0</td>\n",
       "      <td>5384.0</td>\n",
       "      <td>1.475500e+09</td>\n",
       "      <td>c00cee6963e0dc66e50e271239426914</td>\n",
       "      <td>52d38cf1a3240d5cbdcf730f2d9a47d6</td>\n",
       "      <td>pentos</td>\n",
       "      <td>driving_to_destination</td>\n",
       "      <td>2016-10-03 13:00:48</td>\n",
       "      <td>10</td>\n",
       "      <td>2016</td>\n",
       "      <td>3</td>\n",
       "      <td>13</td>\n",
       "      <td>afternoon</td>\n",
       "      <td>linear</td>\n",
       "    </tr>\n",
       "    <tr>\n",
       "      <td>1</td>\n",
       "      <td>245.0</td>\n",
       "      <td>1248.0</td>\n",
       "      <td>1.475500e+09</td>\n",
       "      <td>427425e1f4318ca2461168bdd6e4fcbd</td>\n",
       "      <td>8336b28f24c3e7a1e3d582073b164895</td>\n",
       "      <td>volantis</td>\n",
       "      <td>going_to_pickup</td>\n",
       "      <td>2016-10-03 13:00:48</td>\n",
       "      <td>10</td>\n",
       "      <td>2016</td>\n",
       "      <td>3</td>\n",
       "      <td>13</td>\n",
       "      <td>afternoon</td>\n",
       "      <td>road</td>\n",
       "    </tr>\n",
       "    <tr>\n",
       "      <td>2</td>\n",
       "      <td>1249.0</td>\n",
       "      <td>5847.0</td>\n",
       "      <td>1.475500e+09</td>\n",
       "      <td>757867f6d7c00ef92a65bfaa3895943f</td>\n",
       "      <td>8885c59374cc539163e83f01ed59fd16</td>\n",
       "      <td>pentos</td>\n",
       "      <td>driving_to_destination</td>\n",
       "      <td>2016-10-03 13:00:48</td>\n",
       "      <td>10</td>\n",
       "      <td>2016</td>\n",
       "      <td>3</td>\n",
       "      <td>13</td>\n",
       "      <td>afternoon</td>\n",
       "      <td>road</td>\n",
       "    </tr>\n",
       "    <tr>\n",
       "      <td>3</td>\n",
       "      <td>471.0</td>\n",
       "      <td>2585.0</td>\n",
       "      <td>1.475500e+09</td>\n",
       "      <td>d09d1301d361f7359d0d936557d10f89</td>\n",
       "      <td>81b63920454f70b6755a494e3b28b3a7</td>\n",
       "      <td>bravos</td>\n",
       "      <td>going_to_pickup</td>\n",
       "      <td>2016-10-03 13:00:48</td>\n",
       "      <td>10</td>\n",
       "      <td>2016</td>\n",
       "      <td>3</td>\n",
       "      <td>13</td>\n",
       "      <td>afternoon</td>\n",
       "      <td>linear</td>\n",
       "    </tr>\n",
       "    <tr>\n",
       "      <td>4</td>\n",
       "      <td>182.0</td>\n",
       "      <td>743.0</td>\n",
       "      <td>1.475500e+09</td>\n",
       "      <td>00f20a701f0ec2519353ef3ffaf75068</td>\n",
       "      <td>b73030977cbad61c9db55418909864fa</td>\n",
       "      <td>pentos</td>\n",
       "      <td>going_to_pickup</td>\n",
       "      <td>2016-10-03 13:00:48</td>\n",
       "      <td>10</td>\n",
       "      <td>2016</td>\n",
       "      <td>3</td>\n",
       "      <td>13</td>\n",
       "      <td>afternoon</td>\n",
       "      <td>road</td>\n",
       "    </tr>\n",
       "  </tbody>\n",
       "</table>\n",
       "</div>"
      ],
      "text/plain": [
       "   duration  distance    started_at                           trip_id  \\\n",
       "0  857.0     5384.0    1.475500e+09  c00cee6963e0dc66e50e271239426914   \n",
       "1  245.0     1248.0    1.475500e+09  427425e1f4318ca2461168bdd6e4fcbd   \n",
       "2  1249.0    5847.0    1.475500e+09  757867f6d7c00ef92a65bfaa3895943f   \n",
       "3  471.0     2585.0    1.475500e+09  d09d1301d361f7359d0d936557d10f89   \n",
       "4  182.0     743.0     1.475500e+09  00f20a701f0ec2519353ef3ffaf75068   \n",
       "\n",
       "                         vehicle_id   city_id                    type  \\\n",
       "0  52d38cf1a3240d5cbdcf730f2d9a47d6  pentos    driving_to_destination   \n",
       "1  8336b28f24c3e7a1e3d582073b164895  volantis  going_to_pickup          \n",
       "2  8885c59374cc539163e83f01ed59fd16  pentos    driving_to_destination   \n",
       "3  81b63920454f70b6755a494e3b28b3a7  bravos    going_to_pickup          \n",
       "4  b73030977cbad61c9db55418909864fa  pentos    going_to_pickup          \n",
       "\n",
       "      started_at_date  Month  year  day  hour time_of_day trip_id_exp  \n",
       "0 2016-10-03 13:00:48  10     2016  3    13    afternoon   linear      \n",
       "1 2016-10-03 13:00:48  10     2016  3    13    afternoon   road        \n",
       "2 2016-10-03 13:00:48  10     2016  3    13    afternoon   road        \n",
       "3 2016-10-03 13:00:48  10     2016  3    13    afternoon   linear      \n",
       "4 2016-10-03 13:00:48  10     2016  3    13    afternoon   road        "
      ]
     },
     "execution_count": 18,
     "metadata": {},
     "output_type": "execute_result"
    }
   ],
   "source": [
    "dataset.head()"
   ]
  },
  {
   "cell_type": "code",
   "execution_count": 19,
   "metadata": {},
   "outputs": [],
   "source": [
    "dataset = dataset[dataset['type'] == 'going_to_pickup']\n",
    "dataset = dataset[['duration', 'distance', 'city_id',  'time_of_day', 'trip_id_exp']]\n",
    "dataset = pd.get_dummies(dataset, columns=['city_id',  'time_of_day', 'trip_id_exp'])"
   ]
  },
  {
   "cell_type": "code",
   "execution_count": 20,
   "metadata": {},
   "outputs": [
    {
     "data": {
      "text/html": [
       "<div>\n",
       "<style scoped>\n",
       "    .dataframe tbody tr th:only-of-type {\n",
       "        vertical-align: middle;\n",
       "    }\n",
       "\n",
       "    .dataframe tbody tr th {\n",
       "        vertical-align: top;\n",
       "    }\n",
       "\n",
       "    .dataframe thead th {\n",
       "        text-align: right;\n",
       "    }\n",
       "</style>\n",
       "<table border=\"1\" class=\"dataframe\">\n",
       "  <thead>\n",
       "    <tr style=\"text-align: right;\">\n",
       "      <th></th>\n",
       "      <th>duration</th>\n",
       "      <th>distance</th>\n",
       "      <th>city_id_bravos</th>\n",
       "      <th>city_id_pentos</th>\n",
       "      <th>city_id_volantis</th>\n",
       "      <th>time_of_day_afternoon</th>\n",
       "      <th>time_of_day_early morning</th>\n",
       "      <th>time_of_day_evening</th>\n",
       "      <th>time_of_day_morning</th>\n",
       "      <th>time_of_day_night</th>\n",
       "      <th>trip_id_exp_linear</th>\n",
       "      <th>trip_id_exp_road</th>\n",
       "    </tr>\n",
       "  </thead>\n",
       "  <tbody>\n",
       "    <tr>\n",
       "      <td>1</td>\n",
       "      <td>245.0</td>\n",
       "      <td>1248.0</td>\n",
       "      <td>0</td>\n",
       "      <td>0</td>\n",
       "      <td>1</td>\n",
       "      <td>1</td>\n",
       "      <td>0</td>\n",
       "      <td>0</td>\n",
       "      <td>0</td>\n",
       "      <td>0</td>\n",
       "      <td>0</td>\n",
       "      <td>1</td>\n",
       "    </tr>\n",
       "    <tr>\n",
       "      <td>3</td>\n",
       "      <td>471.0</td>\n",
       "      <td>2585.0</td>\n",
       "      <td>1</td>\n",
       "      <td>0</td>\n",
       "      <td>0</td>\n",
       "      <td>1</td>\n",
       "      <td>0</td>\n",
       "      <td>0</td>\n",
       "      <td>0</td>\n",
       "      <td>0</td>\n",
       "      <td>1</td>\n",
       "      <td>0</td>\n",
       "    </tr>\n",
       "    <tr>\n",
       "      <td>4</td>\n",
       "      <td>182.0</td>\n",
       "      <td>743.0</td>\n",
       "      <td>0</td>\n",
       "      <td>1</td>\n",
       "      <td>0</td>\n",
       "      <td>1</td>\n",
       "      <td>0</td>\n",
       "      <td>0</td>\n",
       "      <td>0</td>\n",
       "      <td>0</td>\n",
       "      <td>0</td>\n",
       "      <td>1</td>\n",
       "    </tr>\n",
       "    <tr>\n",
       "      <td>5</td>\n",
       "      <td>599.0</td>\n",
       "      <td>1351.0</td>\n",
       "      <td>0</td>\n",
       "      <td>0</td>\n",
       "      <td>1</td>\n",
       "      <td>1</td>\n",
       "      <td>0</td>\n",
       "      <td>0</td>\n",
       "      <td>0</td>\n",
       "      <td>0</td>\n",
       "      <td>0</td>\n",
       "      <td>1</td>\n",
       "    </tr>\n",
       "    <tr>\n",
       "      <td>9</td>\n",
       "      <td>1525.0</td>\n",
       "      <td>2674.0</td>\n",
       "      <td>1</td>\n",
       "      <td>0</td>\n",
       "      <td>0</td>\n",
       "      <td>1</td>\n",
       "      <td>0</td>\n",
       "      <td>0</td>\n",
       "      <td>0</td>\n",
       "      <td>0</td>\n",
       "      <td>1</td>\n",
       "      <td>0</td>\n",
       "    </tr>\n",
       "  </tbody>\n",
       "</table>\n",
       "</div>"
      ],
      "text/plain": [
       "   duration  distance  city_id_bravos  city_id_pentos  city_id_volantis  \\\n",
       "1  245.0     1248.0    0               0               1                  \n",
       "3  471.0     2585.0    1               0               0                  \n",
       "4  182.0     743.0     0               1               0                  \n",
       "5  599.0     1351.0    0               0               1                  \n",
       "9  1525.0    2674.0    1               0               0                  \n",
       "\n",
       "   time_of_day_afternoon  time_of_day_early morning  time_of_day_evening  \\\n",
       "1  1                      0                          0                     \n",
       "3  1                      0                          0                     \n",
       "4  1                      0                          0                     \n",
       "5  1                      0                          0                     \n",
       "9  1                      0                          0                     \n",
       "\n",
       "   time_of_day_morning  time_of_day_night  trip_id_exp_linear  \\\n",
       "1  0                    0                  0                    \n",
       "3  0                    0                  1                    \n",
       "4  0                    0                  0                    \n",
       "5  0                    0                  0                    \n",
       "9  0                    0                  1                    \n",
       "\n",
       "   trip_id_exp_road  \n",
       "1  1                 \n",
       "3  0                 \n",
       "4  1                 \n",
       "5  1                 \n",
       "9  0                 "
      ]
     },
     "execution_count": 20,
     "metadata": {},
     "output_type": "execute_result"
    }
   ],
   "source": [
    "dataset.head()"
   ]
  },
  {
   "cell_type": "code",
   "execution_count": 21,
   "metadata": {},
   "outputs": [
    {
     "name": "stdout",
     "output_type": "stream",
     "text": [
      "(58211, 12)\n"
     ]
    }
   ],
   "source": [
    "#dataset = dataset.iloc[0:2000, :]\n",
    "print(dataset.shape)"
   ]
  },
  {
   "cell_type": "code",
   "execution_count": 22,
   "metadata": {},
   "outputs": [],
   "source": [
    "dataset = dataset[['duration',  'trip_id_exp_linear', 'distance'\n",
    "                   #, 'city_id_bravos', 'city_id_pentos', 'city_id_volantis'\n",
    "                  ]]"
   ]
  },
  {
   "cell_type": "code",
   "execution_count": 23,
   "metadata": {},
   "outputs": [],
   "source": [
    "y = dataset.duration.values\n",
    "X = dataset.drop([\"duration\"], axis=1)\n",
    "features = X.columns\n",
    "X = X.values"
   ]
  },
  {
   "cell_type": "code",
   "execution_count": 24,
   "metadata": {},
   "outputs": [
    {
     "data": {
      "text/plain": [
       "RuleFit(Cs=None, cv=3, exp_rand_tree_size=True, lin_standardise=True,\n",
       "        lin_trim_quantile=0.025, max_rules=2000, memory_par=0.01,\n",
       "        model_type='rl', random_state=None, rfmode='regress',\n",
       "        sample_fract='default',\n",
       "        tree_generator=GradientBoostingRegressor(alpha=0.9,\n",
       "                                                 criterion='friedman_mse',\n",
       "                                                 init=None, learning_rate=0.01,\n",
       "                                                 loss='ls', max_depth=100,\n",
       "                                                 max_features=None,\n",
       "                                                 max_leaf_nodes=4,\n",
       "                                                 min_impurity_decrease=0.0,\n",
       "                                                 min_impurity_split=None,\n",
       "                                                 min_samples_leaf=1,\n",
       "                                                 min_samples_split=2,\n",
       "                                                 min_weight_fraction_leaf=0.0,\n",
       "                                                 n_estimators=582,\n",
       "                                                 n_iter_no_change=None,\n",
       "                                                 presort='auto',\n",
       "                                                 random_state=581,\n",
       "                                                 subsample=0.026586338540068026,\n",
       "                                                 tol=0.0001,\n",
       "                                                 validation_fraction=0.1,\n",
       "                                                 verbose=0, warm_start=False),\n",
       "        tree_size=4)"
      ]
     },
     "execution_count": 24,
     "metadata": {},
     "output_type": "execute_result"
    }
   ],
   "source": [
    "rf = RuleFit()\n",
    "rf.fit(X, y, feature_names=features)"
   ]
  },
  {
   "cell_type": "code",
   "execution_count": 25,
   "metadata": {},
   "outputs": [],
   "source": [
    "## **INSPECT RESULTS**\n",
    "pd.set_option('display.max_rows', 500)\n",
    "pd.set_option('display.max_columns', None)  # or 1000\n",
    "pd.set_option('display.max_colwidth', -1)  # or 199\n",
    "rules = rf.get_rules()\n",
    "rules = rules[rules.coef != 0].sort_values(\"support\", ascending=False)"
   ]
  },
  {
   "cell_type": "code",
   "execution_count": 26,
   "metadata": {},
   "outputs": [
    {
     "data": {
      "text/html": [
       "<div>\n",
       "<style scoped>\n",
       "    .dataframe tbody tr th:only-of-type {\n",
       "        vertical-align: middle;\n",
       "    }\n",
       "\n",
       "    .dataframe tbody tr th {\n",
       "        vertical-align: top;\n",
       "    }\n",
       "\n",
       "    .dataframe thead th {\n",
       "        text-align: right;\n",
       "    }\n",
       "</style>\n",
       "<table border=\"1\" class=\"dataframe\">\n",
       "  <thead>\n",
       "    <tr style=\"text-align: right;\">\n",
       "      <th></th>\n",
       "      <th>rule</th>\n",
       "      <th>type</th>\n",
       "      <th>coef</th>\n",
       "      <th>support</th>\n",
       "      <th>importance</th>\n",
       "    </tr>\n",
       "  </thead>\n",
       "  <tbody>\n",
       "    <tr>\n",
       "      <td>0</td>\n",
       "      <td>trip_id_exp_linear</td>\n",
       "      <td>linear</td>\n",
       "      <td>-0.879591</td>\n",
       "      <td>1.0</td>\n",
       "      <td>0.435871</td>\n",
       "    </tr>\n",
       "  </tbody>\n",
       "</table>\n",
       "</div>"
      ],
      "text/plain": [
       "                 rule    type      coef  support  importance\n",
       "0  trip_id_exp_linear  linear -0.879591  1.0      0.435871  "
      ]
     },
     "execution_count": 26,
     "metadata": {},
     "output_type": "execute_result"
    }
   ],
   "source": [
    "rules"
   ]
  },
  {
   "cell_type": "code",
   "execution_count": null,
   "metadata": {},
   "outputs": [],
   "source": []
  }
 ],
 "metadata": {
  "kernelspec": {
   "display_name": "Python 3",
   "language": "python",
   "name": "python3"
  },
  "language_info": {
   "codemirror_mode": {
    "name": "ipython",
    "version": 3
   },
   "file_extension": ".py",
   "mimetype": "text/x-python",
   "name": "python",
   "nbconvert_exporter": "python",
   "pygments_lexer": "ipython3",
   "version": "3.7.4"
  }
 },
 "nbformat": 4,
 "nbformat_minor": 4
}
