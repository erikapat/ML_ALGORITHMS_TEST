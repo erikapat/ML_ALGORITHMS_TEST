{
 "cells": [
  {
   "cell_type": "markdown",
   "metadata": {},
   "source": [
    "## **BAYESIAN MODELS**\n",
    "\n",
    "\n",
    "**BASICS:**\n",
    "\n",
    "Bayes Theorem:\n",
    "\n",
    "![alt text](fig/bayes.png \"Title\")\n",
    "\n",
    "Here, we replace H with hypothesis and D with data, Bayes' theorem tells us how to compute the probability of a hypothesis H given the data D. Where:\n",
    "\n",
    "![alt text](fig/bayes_details.png \"Title\")\n",
    "\n",
    "This means:\n",
    "\n",
    "* **The prior distribution** should reflect what we know about the value of some parameter before seeing the data D.\n",
    "\n",
    "* **The likelihood** is how we will introduce data in our analysis. It is an expression of the plausibility of the data given the parameters.\n",
    "\n",
    "* **The posterior distribution** is the result of the Bayesian analysis and reflects all that we know about a problem (given our data and model). The posterior is a probability distribution for the parameters in our model and not a single value. **This distribution is a balance of the prior and the likelihood**. There is a joke that says: A Bayesian is one who, vaguely expecting a horse, and catching a glimpse of a donkey, strongly believes he has seen a mule. One way to kill the mood after hearing this joke is to explain that **if the likelihood and priors are both vague you will get a posterior reflecting vague beliefs about seeing a mule rather than strong ones**. \n",
    "\n",
    "We can think of the posterior as the updated prior in the light of the data. In fact, the posterior of one analysis can be used as the prior of a new analysis after collecting new data. This makes Bayesian analysis particularly suitable for analyzing data that becomes available in sequential order. \n",
    "\n",
    "The last term is the **evidence**, also known as marginal likelihood. Formally, the evidence is the probability of observing the data averaged over all the possible values the parameters can take. Most of the time we will not care about the evidence, and we will think of it as a simple normalization factor. This will not be problematic since we will only care about the relative values of the parameters and not their absolute ones:\n",
    "\n",
    "![alt text](fig/bayes_alt.png \"Title\")\n",
    "\n",
    "**Concepts to have in consideration:**\n",
    "\n",
    "* **Conjugate prior** of a likelihood is a prior that, when used in combination with the given likelihood, returns a posterior with the same functional form as the prior. For example: every time we use a beta distribution as prior and a binomial distribution as likelihood, we will get a beta as a posterior. The Gaussian distribution is the conjugate prior of itself. \n",
    "\n",
    "**Results of a Bayesian Model**\n",
    "\n",
    "* The result of a Bayesian analysis is the posterior distribution, not a single value but a distribution of plausible values given the data and our model.\n",
    "* The most probable value is given by the mode of the posterior (the peak of the distribution).\n",
    "* The spread of the posterior is proportional to the uncertainty about the value of a parameter; the more spread the distribution, the less certain we are.\n",
    "* Given a sufficiently large amount of data, two or more Bayesian models with different priors will tend to converge to the same result. In the limit of infinite data, no matter which prior we use, we will always get the same posterior. Remember that infinite is a limit and not a number, so from a practical point of view in some cases the infinite amount of data could be approximated with a really small number of data points."
   ]
  },
  {
   "cell_type": "code",
   "execution_count": null,
   "metadata": {},
   "outputs": [],
   "source": []
  }
 ],
 "metadata": {
  "kernelspec": {
   "display_name": "Python 3",
   "language": "python",
   "name": "python3"
  },
  "language_info": {
   "codemirror_mode": {
    "name": "ipython",
    "version": 3
   },
   "file_extension": ".py",
   "mimetype": "text/x-python",
   "name": "python",
   "nbconvert_exporter": "python",
   "pygments_lexer": "ipython3",
   "version": "3.7.4"
  }
 },
 "nbformat": 4,
 "nbformat_minor": 4
}
